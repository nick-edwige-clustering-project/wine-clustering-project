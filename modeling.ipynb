{
 "cells": [
  {
   "cell_type": "markdown",
   "id": "3db795d4-fc3f-4535-adf0-7394c1544517",
   "metadata": {},
   "source": [
    "# Modeling"
   ]
  },
  {
   "cell_type": "code",
   "execution_count": 1,
   "id": "4d3dbe31-0150-4064-a84d-2ac238a8a6c4",
   "metadata": {},
   "outputs": [],
   "source": [
    "import sys\n",
    "\n",
    "sys.path.append('/Users/nickolaspedrimiranda/CodeUp/Regression-Project/')"
   ]
  },
  {
   "cell_type": "code",
   "execution_count": 2,
   "id": "0f32169f-ccfa-4080-a758-12f0aa913ec9",
   "metadata": {},
   "outputs": [],
   "source": [
    "# Import basic DS libraries\n",
    "import pandas as pd\n",
    "import numpy as np\n",
    "\n",
    "# Import libraries for visuals\n",
    "import matplotlib.pyplot as plt\n",
    "import seaborn as sns\n",
    "\n",
    "# Import useful DS functions\n",
    "import acquire as ac\n",
    "import prepare as prep\n",
    "import evaluate as ev\n",
    "import explore as ex\n",
    "\n",
    "# For modeling\n",
    "from sklearn.linear_model import LinearRegression, LassoLars, TweedieRegressor\n",
    "from sklearn.preprocessing import PolynomialFeatures\n",
    "\n",
    "from sklearn.ensemble import RandomForestRegressor\n",
    "from xgboost import XGBRegressor\n",
    "\n",
    "from sklearn.neighbors import KNeighborsClassifier\n",
    "from sklearn.ensemble import RandomForestClassifier\n",
    "from sklearn.tree import DecisionTreeClassifier\n",
    "from sklearn.linear_model import LogisticRegression\n",
    "\n",
    "seed = 100"
   ]
  },
  {
   "cell_type": "code",
   "execution_count": 3,
   "id": "db3796b6-f7d9-4621-af42-7ccf27aef59b",
   "metadata": {},
   "outputs": [],
   "source": [
    "wine = ac.get_wine()"
   ]
  },
  {
   "cell_type": "code",
   "execution_count": 4,
   "id": "d230ce5b-0901-4497-b573-0dc0df8fab96",
   "metadata": {},
   "outputs": [
    {
     "data": {
      "text/html": [
       "<div>\n",
       "<style scoped>\n",
       "    .dataframe tbody tr th:only-of-type {\n",
       "        vertical-align: middle;\n",
       "    }\n",
       "\n",
       "    .dataframe tbody tr th {\n",
       "        vertical-align: top;\n",
       "    }\n",
       "\n",
       "    .dataframe thead th {\n",
       "        text-align: right;\n",
       "    }\n",
       "</style>\n",
       "<table border=\"1\" class=\"dataframe\">\n",
       "  <thead>\n",
       "    <tr style=\"text-align: right;\">\n",
       "      <th></th>\n",
       "      <th>fixed_acidity</th>\n",
       "      <th>volatile_acidity</th>\n",
       "      <th>citric_acid</th>\n",
       "      <th>residual_sugar</th>\n",
       "      <th>chlorides</th>\n",
       "      <th>free_sulfur_dioxide</th>\n",
       "      <th>total_sulfur_dioxide</th>\n",
       "      <th>density</th>\n",
       "      <th>pH</th>\n",
       "      <th>sulphates</th>\n",
       "      <th>alcohol</th>\n",
       "      <th>quality</th>\n",
       "      <th>wine_type</th>\n",
       "    </tr>\n",
       "  </thead>\n",
       "  <tbody>\n",
       "    <tr>\n",
       "      <th>0</th>\n",
       "      <td>7.4</td>\n",
       "      <td>0.70</td>\n",
       "      <td>0.00</td>\n",
       "      <td>1.9</td>\n",
       "      <td>0.076</td>\n",
       "      <td>11.0</td>\n",
       "      <td>34.0</td>\n",
       "      <td>0.9978</td>\n",
       "      <td>3.51</td>\n",
       "      <td>0.56</td>\n",
       "      <td>9.4</td>\n",
       "      <td>5</td>\n",
       "      <td>red</td>\n",
       "    </tr>\n",
       "    <tr>\n",
       "      <th>1</th>\n",
       "      <td>7.8</td>\n",
       "      <td>0.88</td>\n",
       "      <td>0.00</td>\n",
       "      <td>2.6</td>\n",
       "      <td>0.098</td>\n",
       "      <td>25.0</td>\n",
       "      <td>67.0</td>\n",
       "      <td>0.9968</td>\n",
       "      <td>3.20</td>\n",
       "      <td>0.68</td>\n",
       "      <td>9.8</td>\n",
       "      <td>5</td>\n",
       "      <td>red</td>\n",
       "    </tr>\n",
       "    <tr>\n",
       "      <th>2</th>\n",
       "      <td>7.8</td>\n",
       "      <td>0.76</td>\n",
       "      <td>0.04</td>\n",
       "      <td>2.3</td>\n",
       "      <td>0.092</td>\n",
       "      <td>15.0</td>\n",
       "      <td>54.0</td>\n",
       "      <td>0.9970</td>\n",
       "      <td>3.26</td>\n",
       "      <td>0.65</td>\n",
       "      <td>9.8</td>\n",
       "      <td>5</td>\n",
       "      <td>red</td>\n",
       "    </tr>\n",
       "    <tr>\n",
       "      <th>3</th>\n",
       "      <td>11.2</td>\n",
       "      <td>0.28</td>\n",
       "      <td>0.56</td>\n",
       "      <td>1.9</td>\n",
       "      <td>0.075</td>\n",
       "      <td>17.0</td>\n",
       "      <td>60.0</td>\n",
       "      <td>0.9980</td>\n",
       "      <td>3.16</td>\n",
       "      <td>0.58</td>\n",
       "      <td>9.8</td>\n",
       "      <td>6</td>\n",
       "      <td>red</td>\n",
       "    </tr>\n",
       "    <tr>\n",
       "      <th>4</th>\n",
       "      <td>7.4</td>\n",
       "      <td>0.70</td>\n",
       "      <td>0.00</td>\n",
       "      <td>1.9</td>\n",
       "      <td>0.076</td>\n",
       "      <td>11.0</td>\n",
       "      <td>34.0</td>\n",
       "      <td>0.9978</td>\n",
       "      <td>3.51</td>\n",
       "      <td>0.56</td>\n",
       "      <td>9.4</td>\n",
       "      <td>5</td>\n",
       "      <td>red</td>\n",
       "    </tr>\n",
       "  </tbody>\n",
       "</table>\n",
       "</div>"
      ],
      "text/plain": [
       "   fixed_acidity  volatile_acidity  citric_acid  residual_sugar  chlorides  \\\n",
       "0            7.4              0.70         0.00             1.9      0.076   \n",
       "1            7.8              0.88         0.00             2.6      0.098   \n",
       "2            7.8              0.76         0.04             2.3      0.092   \n",
       "3           11.2              0.28         0.56             1.9      0.075   \n",
       "4            7.4              0.70         0.00             1.9      0.076   \n",
       "\n",
       "   free_sulfur_dioxide  total_sulfur_dioxide  density    pH  sulphates  \\\n",
       "0                 11.0                  34.0   0.9978  3.51       0.56   \n",
       "1                 25.0                  67.0   0.9968  3.20       0.68   \n",
       "2                 15.0                  54.0   0.9970  3.26       0.65   \n",
       "3                 17.0                  60.0   0.9980  3.16       0.58   \n",
       "4                 11.0                  34.0   0.9978  3.51       0.56   \n",
       "\n",
       "   alcohol  quality wine_type  \n",
       "0      9.4        5       red  \n",
       "1      9.8        5       red  \n",
       "2      9.8        5       red  \n",
       "3      9.8        6       red  \n",
       "4      9.4        5       red  "
      ]
     },
     "execution_count": 4,
     "metadata": {},
     "output_type": "execute_result"
    }
   ],
   "source": [
    "wine.head()"
   ]
  },
  {
   "cell_type": "code",
   "execution_count": 5,
   "id": "e2a5c17e-fe7e-4422-b319-3385a02a5614",
   "metadata": {},
   "outputs": [],
   "source": [
    "wine = ex.reajust_range(wine)\n",
    "# wine = wine.drop(columns='residual_sugar')"
   ]
  },
  {
   "cell_type": "code",
   "execution_count": 6,
   "id": "97960ca1-b937-4ec6-b06c-101cd186c6cb",
   "metadata": {},
   "outputs": [],
   "source": [
    "train, val, test = prep.train_val_test(wine, strat='quality', seed=seed)\n",
    "train, val, test = prep.scale(wine, train=train, val=val, test=test, scaled_cols=(wine.select_dtypes(float).columns))\n",
    "train, val, test = prep.dummies(train, val, test, drop_first=['wine_type'])\n",
    "x_train, y_train = prep.split_xy(train, 'quality')\n",
    "x_val, y_val = prep.split_xy(val, 'quality')"
   ]
  },
  {
   "cell_type": "code",
   "execution_count": 7,
   "id": "88087f6b-cb5c-493d-baac-733c4a73d953",
   "metadata": {},
   "outputs": [
    {
     "data": {
      "text/html": [
       "<div>\n",
       "<style scoped>\n",
       "    .dataframe tbody tr th:only-of-type {\n",
       "        vertical-align: middle;\n",
       "    }\n",
       "\n",
       "    .dataframe tbody tr th {\n",
       "        vertical-align: top;\n",
       "    }\n",
       "\n",
       "    .dataframe thead th {\n",
       "        text-align: right;\n",
       "    }\n",
       "</style>\n",
       "<table border=\"1\" class=\"dataframe\">\n",
       "  <thead>\n",
       "    <tr style=\"text-align: right;\">\n",
       "      <th></th>\n",
       "      <th>fixed_acidity</th>\n",
       "      <th>volatile_acidity</th>\n",
       "      <th>citric_acid</th>\n",
       "      <th>residual_sugar</th>\n",
       "      <th>chlorides</th>\n",
       "      <th>free_sulfur_dioxide</th>\n",
       "      <th>total_sulfur_dioxide</th>\n",
       "      <th>density</th>\n",
       "      <th>pH</th>\n",
       "      <th>sulphates</th>\n",
       "      <th>alcohol</th>\n",
       "      <th>quality</th>\n",
       "      <th>wine_type_white</th>\n",
       "    </tr>\n",
       "  </thead>\n",
       "  <tbody>\n",
       "    <tr>\n",
       "      <th>324</th>\n",
       "      <td>0.739726</td>\n",
       "      <td>0.573427</td>\n",
       "      <td>0.253165</td>\n",
       "      <td>0.514851</td>\n",
       "      <td>0.563636</td>\n",
       "      <td>0.152866</td>\n",
       "      <td>0.173913</td>\n",
       "      <td>0.928986</td>\n",
       "      <td>0.400000</td>\n",
       "      <td>0.610390</td>\n",
       "      <td>0.137931</td>\n",
       "      <td>6</td>\n",
       "      <td>0</td>\n",
       "    </tr>\n",
       "    <tr>\n",
       "      <th>5697</th>\n",
       "      <td>0.273973</td>\n",
       "      <td>0.181818</td>\n",
       "      <td>0.430380</td>\n",
       "      <td>0.247525</td>\n",
       "      <td>0.336364</td>\n",
       "      <td>0.369427</td>\n",
       "      <td>0.529644</td>\n",
       "      <td>0.379600</td>\n",
       "      <td>0.457143</td>\n",
       "      <td>0.207792</td>\n",
       "      <td>0.448276</td>\n",
       "      <td>5</td>\n",
       "      <td>1</td>\n",
       "    </tr>\n",
       "    <tr>\n",
       "      <th>2405</th>\n",
       "      <td>0.246575</td>\n",
       "      <td>0.321678</td>\n",
       "      <td>0.329114</td>\n",
       "      <td>0.623762</td>\n",
       "      <td>0.336364</td>\n",
       "      <td>0.713376</td>\n",
       "      <td>0.786561</td>\n",
       "      <td>0.670755</td>\n",
       "      <td>0.409524</td>\n",
       "      <td>0.246753</td>\n",
       "      <td>0.206897</td>\n",
       "      <td>5</td>\n",
       "      <td>1</td>\n",
       "    </tr>\n",
       "    <tr>\n",
       "      <th>3107</th>\n",
       "      <td>0.301370</td>\n",
       "      <td>0.181818</td>\n",
       "      <td>0.620253</td>\n",
       "      <td>0.688119</td>\n",
       "      <td>0.463636</td>\n",
       "      <td>0.624204</td>\n",
       "      <td>0.648221</td>\n",
       "      <td>0.774048</td>\n",
       "      <td>0.771429</td>\n",
       "      <td>0.285714</td>\n",
       "      <td>0.241379</td>\n",
       "      <td>6</td>\n",
       "      <td>1</td>\n",
       "    </tr>\n",
       "    <tr>\n",
       "      <th>5166</th>\n",
       "      <td>0.315068</td>\n",
       "      <td>0.251748</td>\n",
       "      <td>0.341772</td>\n",
       "      <td>0.178218</td>\n",
       "      <td>0.200000</td>\n",
       "      <td>0.242038</td>\n",
       "      <td>0.292490</td>\n",
       "      <td>0.244028</td>\n",
       "      <td>0.361905</td>\n",
       "      <td>0.220779</td>\n",
       "      <td>0.534483</td>\n",
       "      <td>6</td>\n",
       "      <td>1</td>\n",
       "    </tr>\n",
       "  </tbody>\n",
       "</table>\n",
       "</div>"
      ],
      "text/plain": [
       "      fixed_acidity  volatile_acidity  citric_acid  residual_sugar  chlorides  \\\n",
       "324        0.739726          0.573427     0.253165        0.514851   0.563636   \n",
       "5697       0.273973          0.181818     0.430380        0.247525   0.336364   \n",
       "2405       0.246575          0.321678     0.329114        0.623762   0.336364   \n",
       "3107       0.301370          0.181818     0.620253        0.688119   0.463636   \n",
       "5166       0.315068          0.251748     0.341772        0.178218   0.200000   \n",
       "\n",
       "      free_sulfur_dioxide  total_sulfur_dioxide   density        pH  \\\n",
       "324              0.152866              0.173913  0.928986  0.400000   \n",
       "5697             0.369427              0.529644  0.379600  0.457143   \n",
       "2405             0.713376              0.786561  0.670755  0.409524   \n",
       "3107             0.624204              0.648221  0.774048  0.771429   \n",
       "5166             0.242038              0.292490  0.244028  0.361905   \n",
       "\n",
       "      sulphates   alcohol  quality  wine_type_white  \n",
       "324    0.610390  0.137931        6                0  \n",
       "5697   0.207792  0.448276        5                1  \n",
       "2405   0.246753  0.206897        5                1  \n",
       "3107   0.285714  0.241379        6                1  \n",
       "5166   0.220779  0.534483        6                1  "
      ]
     },
     "execution_count": 7,
     "metadata": {},
     "output_type": "execute_result"
    }
   ],
   "source": [
    "train.head()"
   ]
  },
  {
   "cell_type": "markdown",
   "id": "52bc9c02-e441-4da2-a457-6ba78bbb2a30",
   "metadata": {},
   "source": [
    "## BASELINE"
   ]
  },
  {
   "cell_type": "code",
   "execution_count": 8,
   "id": "3cf25be2-28fe-4f93-a9bb-6444555f2545",
   "metadata": {},
   "outputs": [],
   "source": [
    "results = ev.baseline(train.quality)"
   ]
  },
  {
   "cell_type": "code",
   "execution_count": 9,
   "id": "37e5a8f8-d5d4-4779-b17e-e8e3ca1c5e18",
   "metadata": {},
   "outputs": [
    {
     "data": {
      "text/html": [
       "<div>\n",
       "<style scoped>\n",
       "    .dataframe tbody tr th:only-of-type {\n",
       "        vertical-align: middle;\n",
       "    }\n",
       "\n",
       "    .dataframe tbody tr th {\n",
       "        vertical-align: top;\n",
       "    }\n",
       "\n",
       "    .dataframe thead th {\n",
       "        text-align: right;\n",
       "    }\n",
       "</style>\n",
       "<table border=\"1\" class=\"dataframe\">\n",
       "  <thead>\n",
       "    <tr style=\"text-align: right;\">\n",
       "      <th></th>\n",
       "      <th>quality</th>\n",
       "      <th>base_median</th>\n",
       "      <th>base_mean</th>\n",
       "    </tr>\n",
       "  </thead>\n",
       "  <tbody>\n",
       "    <tr>\n",
       "      <th>324</th>\n",
       "      <td>6</td>\n",
       "      <td>6.0</td>\n",
       "      <td>5.83048</td>\n",
       "    </tr>\n",
       "    <tr>\n",
       "      <th>5697</th>\n",
       "      <td>5</td>\n",
       "      <td>6.0</td>\n",
       "      <td>5.83048</td>\n",
       "    </tr>\n",
       "    <tr>\n",
       "      <th>2405</th>\n",
       "      <td>5</td>\n",
       "      <td>6.0</td>\n",
       "      <td>5.83048</td>\n",
       "    </tr>\n",
       "    <tr>\n",
       "      <th>3107</th>\n",
       "      <td>6</td>\n",
       "      <td>6.0</td>\n",
       "      <td>5.83048</td>\n",
       "    </tr>\n",
       "    <tr>\n",
       "      <th>5166</th>\n",
       "      <td>6</td>\n",
       "      <td>6.0</td>\n",
       "      <td>5.83048</td>\n",
       "    </tr>\n",
       "  </tbody>\n",
       "</table>\n",
       "</div>"
      ],
      "text/plain": [
       "      quality  base_median  base_mean\n",
       "324         6          6.0    5.83048\n",
       "5697        5          6.0    5.83048\n",
       "2405        5          6.0    5.83048\n",
       "3107        6          6.0    5.83048\n",
       "5166        6          6.0    5.83048"
      ]
     },
     "execution_count": 9,
     "metadata": {},
     "output_type": "execute_result"
    }
   ],
   "source": [
    "results.head()"
   ]
  },
  {
   "cell_type": "code",
   "execution_count": 10,
   "id": "11002ce9-4de7-4a77-ba1d-cbb33ddea3f1",
   "metadata": {},
   "outputs": [
    {
     "data": {
      "text/plain": [
       "(3193.0, 0.7591535901093676, 0.8712942041063785)"
      ]
     },
     "execution_count": 10,
     "metadata": {},
     "output_type": "execute_result"
    }
   ],
   "source": [
    "SSE, MSE, RMSE = ev.eval_model(results.quality, results.base_mean.round())\n",
    "SSE, MSE, RMSE"
   ]
  },
  {
   "cell_type": "code",
   "execution_count": 11,
   "id": "70b01aff-0a85-4df7-8152-9d06614618ee",
   "metadata": {},
   "outputs": [
    {
     "data": {
      "text/plain": [
       "(3193.0, 0.7591535901093676, 0.8712942041063785)"
      ]
     },
     "execution_count": 11,
     "metadata": {},
     "output_type": "execute_result"
    }
   ],
   "source": [
    "SSE, MSE, RMSE = ev.eval_model(results.quality, results.base_median)\n",
    "SSE, MSE, RMSE"
   ]
  },
  {
   "cell_type": "markdown",
   "id": "d74b4542-da89-4654-82cc-78d018b10181",
   "metadata": {},
   "source": [
    "## POLYNOMIAL FEATURES"
   ]
  },
  {
   "cell_type": "code",
   "execution_count": 12,
   "id": "47366bae-be4f-40f0-98bf-24e94120852a",
   "metadata": {},
   "outputs": [],
   "source": [
    "poly = PolynomialFeatures()\n",
    "x_train_s = poly.fit_transform(x_train)\n",
    "x_val_s = poly.transform(x_val)"
   ]
  },
  {
   "cell_type": "markdown",
   "id": "d50be7a4-a577-4d95-bb76-fd76528f7605",
   "metadata": {},
   "source": [
    "## Linear Regression"
   ]
  },
  {
   "cell_type": "code",
   "execution_count": 13,
   "id": "befc76ca-0920-46ca-b6de-6bb012e6980a",
   "metadata": {},
   "outputs": [
    {
     "name": "stdout",
     "output_type": "stream",
     "text": [
      "The train RMSE is 0.7795532573385248.\n",
      "The validate RMSE is 0.7684107299774686.\n"
     ]
    }
   ],
   "source": [
    "lm = LinearRegression()  # Create model object\n",
    "ev.train_model_gen2(lm, x_train, y_train, x_val, y_val)  # Check train and validate"
   ]
  },
  {
   "cell_type": "code",
   "execution_count": 14,
   "id": "0e6ff341-bb98-4c73-bce2-d2a2f2947602",
   "metadata": {},
   "outputs": [
    {
     "name": "stdout",
     "output_type": "stream",
     "text": [
      "The train RMSE is 0.7426930472507584.\n",
      "The validate RMSE is 0.7479160837744295.\n"
     ]
    }
   ],
   "source": [
    "lm = LinearRegression()  # Create model object\n",
    "ev.train_model_gen2(lm, x_train_s, y_train, x_val_s, y_val)  # Check train and validate"
   ]
  },
  {
   "cell_type": "markdown",
   "id": "18ce453f-0a19-46a9-8387-4356e6e1d44b",
   "metadata": {},
   "source": [
    "## XGBRegressor"
   ]
  },
  {
   "cell_type": "code",
   "execution_count": 15,
   "id": "f5b80177-bc4b-40a5-8386-3806ab4a1ddf",
   "metadata": {},
   "outputs": [
    {
     "name": "stdout",
     "output_type": "stream",
     "text": [
      "The train RMSE is 0.6699869765449888.\n",
      "The validate RMSE is 0.7988615651174962.\n"
     ]
    }
   ],
   "source": [
    "xgbr = XGBRegressor(max_depth=8, n_estimators=8, random_state=100)  # Create best model\n",
    "\n",
    "ev.train_model_gen2(xgbr, x_train, y_train, x_val, y_val) # Evaluate"
   ]
  },
  {
   "cell_type": "code",
   "execution_count": 16,
   "id": "7b9663ed-a238-4e44-8d7e-110390195fd7",
   "metadata": {},
   "outputs": [
    {
     "name": "stdout",
     "output_type": "stream",
     "text": [
      "The train RMSE is 0.6251961175897992.\n",
      "The validate RMSE is 0.7995559255833236.\n"
     ]
    }
   ],
   "source": [
    "xgbr = XGBRegressor(max_depth=8, n_estimators=8, random_state=100)  # Create best model\n",
    "\n",
    "ev.train_model_gen2(xgbr, x_train_s, y_train, x_val_s, y_val) # Evaluate"
   ]
  },
  {
   "cell_type": "markdown",
   "id": "8b5ba15c-19fe-45ab-974c-aef551ef7034",
   "metadata": {},
   "source": [
    "## Random Forest Regressor"
   ]
  },
  {
   "cell_type": "code",
   "execution_count": 17,
   "id": "ec1ffd27-3726-4c15-9be6-662c21d3f51b",
   "metadata": {},
   "outputs": [
    {
     "name": "stdout",
     "output_type": "stream",
     "text": [
      "The train RMSE is 0.6810735281429181.\n",
      "The validate RMSE is 0.7351942218490143.\n"
     ]
    }
   ],
   "source": [
    "# Create best model\n",
    "rf = RandomForestRegressor(max_depth=6, min_samples_split=8, random_state=100)\n",
    "\n",
    "ev.train_model_gen2(rf, x_train, y_train, x_val, y_val)  # Evaluate model"
   ]
  },
  {
   "cell_type": "code",
   "execution_count": 18,
   "id": "718d52c7-c4fd-4e5b-a771-ec511f6fc557",
   "metadata": {},
   "outputs": [
    {
     "name": "stdout",
     "output_type": "stream",
     "text": [
      "The train RMSE is 0.6715819749108831.\n",
      "The validate RMSE is 0.732168718388364.\n"
     ]
    }
   ],
   "source": [
    "# Create best model\n",
    "rf = RandomForestRegressor(max_depth=6, min_samples_split=8, random_state=100)\n",
    "\n",
    "ev.train_model_gen2(rf, x_train_s, y_train, x_val_s, y_val)  # Evaluate model"
   ]
  },
  {
   "cell_type": "markdown",
   "id": "4c765038-6891-4ae0-b8a5-d2a98e6ecb3d",
   "metadata": {},
   "source": [
    "## LASSO LARS"
   ]
  },
  {
   "cell_type": "code",
   "execution_count": 19,
   "id": "4c662b66-dc70-499a-9afb-f945821ec6a2",
   "metadata": {},
   "outputs": [
    {
     "name": "stdout",
     "output_type": "stream",
     "text": [
      "The train RMSE is 0.716771885110661.\n",
      "The validate RMSE is 0.7163999296023469.\n"
     ]
    }
   ],
   "source": [
    "ll = LassoLars(alpha=0)\n",
    "ev.train_model(ll, x_train, y_train, x_val, y_val)"
   ]
  },
  {
   "cell_type": "markdown",
   "id": "d8d223cf-d159-407f-b262-79467f84a4be",
   "metadata": {},
   "source": [
    "## KNN"
   ]
  },
  {
   "cell_type": "code",
   "execution_count": 20,
   "id": "32f23a0f-d343-4d1b-b4af-d187ea8cec48",
   "metadata": {},
   "outputs": [
    {
     "name": "stdout",
     "output_type": "stream",
     "text": [
      "The train RMSE is 0.7062656880124635.\n",
      "The validate RMSE is 0.784137975129349.\n"
     ]
    }
   ],
   "source": [
    "knn = KNeighborsClassifier(n_neighbors=7, weights='uniform')\n",
    "ev.train_model(knn, x_train, y_train, x_val, y_val)"
   ]
  },
  {
   "cell_type": "code",
   "execution_count": 21,
   "id": "def6b688-156f-4748-96a5-c703b2402ea9",
   "metadata": {},
   "outputs": [
    {
     "name": "stdout",
     "output_type": "stream",
     "text": [
      "The train RMSE is 0.7094565372322593.\n",
      "The validate RMSE is 0.7791682864734351.\n"
     ]
    }
   ],
   "source": [
    "knn = KNeighborsClassifier(n_neighbors=7, weights='uniform')\n",
    "ev.train_model(knn, x_train_s, y_train, x_val_s, y_val)"
   ]
  },
  {
   "cell_type": "markdown",
   "id": "1bc91aa8-4b9e-4a25-b531-a35a76c12b64",
   "metadata": {},
   "source": [
    "## Random Forest Classifier"
   ]
  },
  {
   "cell_type": "code",
   "execution_count": 22,
   "id": "8eb0b1f7-0131-4ae2-9b85-d8aeae6bce12",
   "metadata": {},
   "outputs": [
    {
     "name": "stdout",
     "output_type": "stream",
     "text": [
      "The train RMSE is 0.7635291087787347.\n",
      "The validate RMSE is 0.7684107299774686.\n"
     ]
    }
   ],
   "source": [
    "rf1 = RandomForestClassifier(max_depth=5, random_state=seed)\n",
    "ev.train_model(rf1, x_train, y_train, x_val, y_val)"
   ]
  },
  {
   "cell_type": "code",
   "execution_count": 23,
   "id": "8d4de09d-12d0-4f4d-99c8-3ba748f55267",
   "metadata": {},
   "outputs": [
    {
     "name": "stdout",
     "output_type": "stream",
     "text": [
      "The train RMSE is 0.7328641563154681.\n",
      "The validate RMSE is 0.7508781392624222.\n"
     ]
    }
   ],
   "source": [
    "rf1 = RandomForestClassifier(max_depth=5, random_state=seed)\n",
    "ev.train_model(rf1, x_train_s, y_train, x_val_s, y_val)"
   ]
  },
  {
   "cell_type": "markdown",
   "id": "5ca05343-52d4-48d2-963e-6ca2eec44421",
   "metadata": {},
   "source": [
    "## Decision Tree"
   ]
  },
  {
   "cell_type": "code",
   "execution_count": 24,
   "id": "2ca89947-efc2-4669-a66d-84d66b54f23c",
   "metadata": {},
   "outputs": [
    {
     "name": "stdout",
     "output_type": "stream",
     "text": [
      "The train RMSE is 0.7977917692512981.\n",
      "The validate RMSE is 0.8016353983424719.\n"
     ]
    }
   ],
   "source": [
    "clf = DecisionTreeClassifier(max_depth=3, random_state=seed)\n",
    "ev.train_model(clf, x_train, y_train, x_val, y_val)"
   ]
  },
  {
   "cell_type": "markdown",
   "id": "e45c4905-bd79-45fb-a987-994d5aa911f6",
   "metadata": {},
   "source": [
    "## Logistic Regression"
   ]
  },
  {
   "cell_type": "markdown",
   "id": "d02ebbf0-b837-4214-9111-6faf0d2f775c",
   "metadata": {},
   "source": [
    "RESULTS WITH SUGAR: \n",
    "\n",
    "lm = 76, 74\n",
    "xgb = 79, 79\n",
    "random forest regressor = 73, 73\n",
    "KNN = 78.5\n",
    "rf1 = 76\n",
    "decision tree = 80\n",
    "logreg= 79\n",
    "\n",
    "WITHOUT SUGAR\n",
    "\n",
    "lm = 78, 76\n",
    "xgb = 80, 83\n",
    "random forest regressor = 73, 73\n",
    "KNN = 78.5\n",
    "rf1 = 76\n",
    "decision tree = 80\n",
    "logreg= 79\n",
    "\n",
    "Without sugar is slightly worse"
   ]
  },
  {
   "cell_type": "code",
   "execution_count": 25,
   "id": "c6cc75ed-20ac-4482-bd66-5d336b5a5205",
   "metadata": {},
   "outputs": [],
   "source": [
    "def test_models(x_train, y_train, x_val, y_val, d=6):\n",
    "    poly = PolynomialFeatures()\n",
    "    x_train_s = poly.fit_transform(x_train)\n",
    "    x_val_s = poly.transform(x_val)\n",
    "    \n",
    "    print('Linear Regression')\n",
    "    lm = LinearRegression()  # Create model object\n",
    "    ev.train_model(lm, x_train, y_train, x_val, y_val)  # Check train and validate\n",
    "    ev.train_model(lm, x_train_s, y_train, x_val_s, y_val)  # Check train and validate\n",
    "    print()\n",
    "    print('XGBRegressor')\n",
    "    xgbr = XGBRegressor(max_depth=d, random_state=100)  # Create best model\n",
    "    ev.train_model(xgbr, x_train, y_train, x_val, y_val) # Evaluate\n",
    "    ev.train_model(xgbr, x_train_s, y_train, x_val_s, y_val) # Evaluate\n",
    "    print()\n",
    "    print('Random Forest Regressor')\n",
    "    # Create best model\n",
    "    rf = RandomForestRegressor(max_depth=6, min_samples_split=8, random_state=100)\n",
    "    ev.train_model(rf, x_train, y_train, x_val, y_val)  # Evaluate model\n",
    "    ev.train_model(rf, x_train_s, y_train, x_val_s, y_val)  # Evaluate model\n",
    "    print()\n",
    "    print('KNN')\n",
    "    knn = KNeighborsClassifier(n_neighbors=7, weights='uniform')\n",
    "    ev.train_model(knn, x_train, y_train, x_val, y_val)\n",
    "    ev.train_model(knn, x_train_s, y_train, x_val_s, y_val)\n",
    "    print()\n",
    "    print('Random Forest Classifier')\n",
    "    rf1 = RandomForestClassifier(max_depth=d, random_state=seed)\n",
    "    ev.train_model(rf1, x_train, y_train, x_val, y_val)\n",
    "    ev.train_model(rf1, x_train_s, y_train, x_val_s, y_val)\n",
    "    print()\n",
    "    print('Decision Tree Classifier')\n",
    "    clf = DecisionTreeClassifier(max_depth=d, random_state=seed)\n",
    "    ev.train_model(clf, x_train, y_train, x_val, y_val)\n",
    "    ev.train_model(clf, x_train_s, y_train, x_val_s, y_val)\n",
    "    print()\n",
    "    print()\n",
    "    "
   ]
  },
  {
   "cell_type": "code",
   "execution_count": 26,
   "id": "ef84eb66-5137-43e0-a36a-c22f66f84db9",
   "metadata": {},
   "outputs": [
    {
     "name": "stdout",
     "output_type": "stream",
     "text": [
      "Linear Regression\n",
      "The train RMSE is 0.716771885110661.\n",
      "The validate RMSE is 0.7163999296023467.\n",
      "The train RMSE is 0.6742875122115677.\n",
      "The validate RMSE is 0.6800919089836661.\n",
      "\n",
      "XGBRegressor\n",
      "The train RMSE is 0.24108011606029658.\n",
      "The validate RMSE is 0.6387545348940477.\n",
      "The train RMSE is 0.13036389272230306.\n",
      "The validate RMSE is 0.621414587343548.\n",
      "\n",
      "Random Forest Regressor\n",
      "The train RMSE is 0.6190106752910569.\n",
      "The validate RMSE is 0.6783116786928595.\n",
      "The train RMSE is 0.6034036269943391.\n",
      "The validate RMSE is 0.6715200733143334.\n",
      "\n",
      "KNN\n",
      "The train RMSE is 0.7062656880124635.\n",
      "The validate RMSE is 0.784137975129349.\n",
      "The train RMSE is 0.7094565372322593.\n",
      "The validate RMSE is 0.7791682864734351.\n",
      "\n",
      "Random Forest Classifier\n",
      "The train RMSE is 0.7263467822753336.\n",
      "The validate RMSE is 0.7560338123498209.\n",
      "The train RMSE is 0.7020451070852293.\n",
      "The validate RMSE is 0.7382073255487889.\n",
      "\n",
      "Decision Tree Classifier\n",
      "The train RMSE is 0.7407697991869955.\n",
      "The validate RMSE is 0.7741666960364172.\n",
      "The train RMSE is 0.7202657088833591.\n",
      "The validate RMSE is 0.7834299497252617.\n",
      "\n",
      "\n"
     ]
    }
   ],
   "source": [
    "test_models(x_train, y_train, x_val, y_val)"
   ]
  },
  {
   "cell_type": "code",
   "execution_count": 27,
   "id": "fa4a436f-713e-49e1-b1b8-ba0c0da80ee0",
   "metadata": {},
   "outputs": [],
   "source": [
    "wine = prep.pour()"
   ]
  },
  {
   "cell_type": "code",
   "execution_count": 28,
   "id": "3570ab33-f4ca-4d02-8b68-11796e602574",
   "metadata": {},
   "outputs": [
    {
     "data": {
      "text/html": [
       "<div>\n",
       "<style scoped>\n",
       "    .dataframe tbody tr th:only-of-type {\n",
       "        vertical-align: middle;\n",
       "    }\n",
       "\n",
       "    .dataframe tbody tr th {\n",
       "        vertical-align: top;\n",
       "    }\n",
       "\n",
       "    .dataframe thead th {\n",
       "        text-align: right;\n",
       "    }\n",
       "</style>\n",
       "<table border=\"1\" class=\"dataframe\">\n",
       "  <thead>\n",
       "    <tr style=\"text-align: right;\">\n",
       "      <th></th>\n",
       "      <th>fixed_acidity</th>\n",
       "      <th>volatile_acidity</th>\n",
       "      <th>citric_acid</th>\n",
       "      <th>residual_sugar</th>\n",
       "      <th>chlorides</th>\n",
       "      <th>free_sulfur_dioxide</th>\n",
       "      <th>total_sulfur_dioxide</th>\n",
       "      <th>density</th>\n",
       "      <th>pH</th>\n",
       "      <th>sulphates</th>\n",
       "      <th>alcohol</th>\n",
       "      <th>quality</th>\n",
       "      <th>wine_type</th>\n",
       "    </tr>\n",
       "  </thead>\n",
       "  <tbody>\n",
       "    <tr>\n",
       "      <th>0</th>\n",
       "      <td>7.4</td>\n",
       "      <td>0.70</td>\n",
       "      <td>0.00</td>\n",
       "      <td>1.9</td>\n",
       "      <td>0.076</td>\n",
       "      <td>11.0</td>\n",
       "      <td>34.0</td>\n",
       "      <td>0.9978</td>\n",
       "      <td>3.51</td>\n",
       "      <td>0.56</td>\n",
       "      <td>9.4</td>\n",
       "      <td>5</td>\n",
       "      <td>red</td>\n",
       "    </tr>\n",
       "    <tr>\n",
       "      <th>2</th>\n",
       "      <td>7.8</td>\n",
       "      <td>0.76</td>\n",
       "      <td>0.04</td>\n",
       "      <td>2.3</td>\n",
       "      <td>0.092</td>\n",
       "      <td>15.0</td>\n",
       "      <td>54.0</td>\n",
       "      <td>0.9970</td>\n",
       "      <td>3.26</td>\n",
       "      <td>0.65</td>\n",
       "      <td>9.8</td>\n",
       "      <td>5</td>\n",
       "      <td>red</td>\n",
       "    </tr>\n",
       "    <tr>\n",
       "      <th>3</th>\n",
       "      <td>11.2</td>\n",
       "      <td>0.28</td>\n",
       "      <td>0.56</td>\n",
       "      <td>1.9</td>\n",
       "      <td>0.075</td>\n",
       "      <td>17.0</td>\n",
       "      <td>60.0</td>\n",
       "      <td>0.9980</td>\n",
       "      <td>3.16</td>\n",
       "      <td>0.58</td>\n",
       "      <td>9.8</td>\n",
       "      <td>6</td>\n",
       "      <td>red</td>\n",
       "    </tr>\n",
       "    <tr>\n",
       "      <th>4</th>\n",
       "      <td>7.4</td>\n",
       "      <td>0.70</td>\n",
       "      <td>0.00</td>\n",
       "      <td>1.9</td>\n",
       "      <td>0.076</td>\n",
       "      <td>11.0</td>\n",
       "      <td>34.0</td>\n",
       "      <td>0.9978</td>\n",
       "      <td>3.51</td>\n",
       "      <td>0.56</td>\n",
       "      <td>9.4</td>\n",
       "      <td>5</td>\n",
       "      <td>red</td>\n",
       "    </tr>\n",
       "    <tr>\n",
       "      <th>5</th>\n",
       "      <td>7.4</td>\n",
       "      <td>0.66</td>\n",
       "      <td>0.00</td>\n",
       "      <td>1.8</td>\n",
       "      <td>0.075</td>\n",
       "      <td>13.0</td>\n",
       "      <td>40.0</td>\n",
       "      <td>0.9978</td>\n",
       "      <td>3.51</td>\n",
       "      <td>0.56</td>\n",
       "      <td>9.4</td>\n",
       "      <td>5</td>\n",
       "      <td>red</td>\n",
       "    </tr>\n",
       "  </tbody>\n",
       "</table>\n",
       "</div>"
      ],
      "text/plain": [
       "   fixed_acidity  volatile_acidity  citric_acid  residual_sugar  chlorides  \\\n",
       "0            7.4              0.70         0.00             1.9      0.076   \n",
       "2            7.8              0.76         0.04             2.3      0.092   \n",
       "3           11.2              0.28         0.56             1.9      0.075   \n",
       "4            7.4              0.70         0.00             1.9      0.076   \n",
       "5            7.4              0.66         0.00             1.8      0.075   \n",
       "\n",
       "   free_sulfur_dioxide  total_sulfur_dioxide  density    pH  sulphates  \\\n",
       "0                 11.0                  34.0   0.9978  3.51       0.56   \n",
       "2                 15.0                  54.0   0.9970  3.26       0.65   \n",
       "3                 17.0                  60.0   0.9980  3.16       0.58   \n",
       "4                 11.0                  34.0   0.9978  3.51       0.56   \n",
       "5                 13.0                  40.0   0.9978  3.51       0.56   \n",
       "\n",
       "   alcohol  quality wine_type  \n",
       "0      9.4        5       red  \n",
       "2      9.8        5       red  \n",
       "3      9.8        6       red  \n",
       "4      9.4        5       red  \n",
       "5      9.4        5       red  "
      ]
     },
     "execution_count": 28,
     "metadata": {},
     "output_type": "execute_result"
    }
   ],
   "source": [
    "wine.head()"
   ]
  },
  {
   "cell_type": "code",
   "execution_count": 29,
   "id": "5c85ba69-35c7-40b0-833b-d79cfdcd0c20",
   "metadata": {},
   "outputs": [],
   "source": [
    "wine = wine.drop(columns=['density'])"
   ]
  },
  {
   "cell_type": "code",
   "execution_count": 30,
   "id": "17d49fe7-3696-472c-8f5f-3c0948a393be",
   "metadata": {},
   "outputs": [],
   "source": [
    "x_train, y_train, x_val, y_val, test = prep.drink_up(wine)"
   ]
  },
  {
   "cell_type": "code",
   "execution_count": 31,
   "id": "df6af18d-4786-4516-a787-a8310284683b",
   "metadata": {},
   "outputs": [
    {
     "name": "stdout",
     "output_type": "stream",
     "text": [
      "Linear Regression\n",
      "The train RMSE is 0.7197657355454814.\n",
      "The validate RMSE is 0.7197657355454814.\n",
      "The train RMSE is 0.6818510663041247.\n",
      "The validate RMSE is 0.6818510663041247.\n",
      "\n",
      "XGBRegressor\n",
      "The train RMSE is 0.239043929286722.\n",
      "The validate RMSE is 0.239043929286722.\n",
      "The train RMSE is 0.14088309676849828.\n",
      "The validate RMSE is 0.14088309676849828.\n",
      "\n",
      "Random Forest Regressor\n",
      "The train RMSE is 0.619751745996752.\n",
      "The validate RMSE is 0.619751745996752.\n",
      "The train RMSE is 0.6032898823238895.\n",
      "The validate RMSE is 0.6032898823238895.\n",
      "\n",
      "KNN\n",
      "The train RMSE is 0.7044117479172953.\n",
      "The validate RMSE is 0.7044117479172953.\n",
      "The train RMSE is 0.7091213345028308.\n",
      "The validate RMSE is 0.7091213345028308.\n",
      "\n",
      "Random Forest Classifier\n",
      "The train RMSE is 0.7286344943408314.\n",
      "The validate RMSE is 0.7286344943408314.\n",
      "The train RMSE is 0.6993305677476211.\n",
      "The validate RMSE is 0.6993305677476211.\n",
      "\n",
      "Decision Tree Classifier\n",
      "The train RMSE is 0.7426930472507584.\n",
      "The validate RMSE is 0.7426930472507584.\n",
      "The train RMSE is 0.7346462979364983.\n",
      "The validate RMSE is 0.7346462979364983.\n",
      "\n",
      "\n"
     ]
    }
   ],
   "source": [
    "test_models(x_train, y_train, x_val, y_val)"
   ]
  },
  {
   "cell_type": "code",
   "execution_count": 34,
   "id": "d41bb7d6-0ce2-4562-86cd-3f50229bb663",
   "metadata": {},
   "outputs": [
    {
     "name": "stdout",
     "output_type": "stream",
     "text": [
      "The train RMSE is 0.23787776223724555.\n",
      "The validate RMSE is 0.23787776223724555.\n"
     ]
    },
    {
     "ename": "ValueError",
     "evalue": "operands could not be broadcast together with shapes (901,) (4206,) ",
     "output_type": "error",
     "traceback": [
      "\u001b[0;31m---------------------------------------------------------------------------\u001b[0m",
      "\u001b[0;31mValueError\u001b[0m                                Traceback (most recent call last)",
      "Cell \u001b[0;32mIn[34], line 3\u001b[0m\n\u001b[1;32m      1\u001b[0m xgbr \u001b[38;5;241m=\u001b[39m XGBRegressor(max_depth\u001b[38;5;241m=\u001b[39m\u001b[38;5;241m6\u001b[39m, random_state\u001b[38;5;241m=\u001b[39m\u001b[38;5;241m100\u001b[39m)  \u001b[38;5;66;03m# Create best model\u001b[39;00m\n\u001b[1;32m      2\u001b[0m ev\u001b[38;5;241m.\u001b[39mtrain_model_gen2(xgbr, x_train, y_train, x_val, y_val) \u001b[38;5;66;03m# Evaluate\u001b[39;00m\n\u001b[0;32m----> 3\u001b[0m \u001b[43mev\u001b[49m\u001b[38;5;241;43m.\u001b[39;49m\u001b[43mtrain_model_gen2\u001b[49m\u001b[43m(\u001b[49m\u001b[43mxgbr\u001b[49m\u001b[43m,\u001b[49m\u001b[43m \u001b[49m\u001b[43mx_train_s\u001b[49m\u001b[43m,\u001b[49m\u001b[43m \u001b[49m\u001b[43my_train\u001b[49m\u001b[43m,\u001b[49m\u001b[43m \u001b[49m\u001b[43mx_val_s\u001b[49m\u001b[43m,\u001b[49m\u001b[43m \u001b[49m\u001b[43my_val\u001b[49m\u001b[43m)\u001b[49m\n",
      "File \u001b[0;32m~/CodeUp/wine-clustering-project/evaluate.py:125\u001b[0m, in \u001b[0;36mtrain_model_gen2\u001b[0;34m(model, X_train, y_train, X_val, y_val)\u001b[0m\n\u001b[1;32m    123\u001b[0m skip, skip2, train_rmse \u001b[38;5;241m=\u001b[39m eval_model(y_train, train_preds)  \u001b[38;5;66;03m# Caculate RMSE for model on train\u001b[39;00m\n\u001b[1;32m    124\u001b[0m val_preds \u001b[38;5;241m=\u001b[39m model\u001b[38;5;241m.\u001b[39mpredict(X_val)\u001b[38;5;241m.\u001b[39mround()  \u001b[38;5;66;03m# Creates predictions for validate\u001b[39;00m\n\u001b[0;32m--> 125\u001b[0m skip3, skip4, val_rmse \u001b[38;5;241m=\u001b[39m \u001b[43meval_model\u001b[49m\u001b[43m(\u001b[49m\u001b[43my_val\u001b[49m\u001b[43m,\u001b[49m\u001b[43m \u001b[49m\u001b[43mval_preds\u001b[49m\u001b[43m)\u001b[49m  \u001b[38;5;66;03m# Caculate RMSE for model on validate\u001b[39;00m\n\u001b[1;32m    126\u001b[0m \u001b[38;5;28mprint\u001b[39m(\u001b[38;5;124mf\u001b[39m\u001b[38;5;124m'\u001b[39m\u001b[38;5;124mThe train RMSE is \u001b[39m\u001b[38;5;132;01m{\u001b[39;00mtrain_rmse\u001b[38;5;132;01m}\u001b[39;00m\u001b[38;5;124m.\u001b[39m\u001b[38;5;124m'\u001b[39m)\n\u001b[1;32m    127\u001b[0m \u001b[38;5;28mprint\u001b[39m(\u001b[38;5;124mf\u001b[39m\u001b[38;5;124m'\u001b[39m\u001b[38;5;124mThe validate RMSE is \u001b[39m\u001b[38;5;132;01m{\u001b[39;00mval_rmse\u001b[38;5;132;01m}\u001b[39;00m\u001b[38;5;124m.\u001b[39m\u001b[38;5;124m'\u001b[39m)\n",
      "File \u001b[0;32m~/CodeUp/wine-clustering-project/evaluate.py:99\u001b[0m, in \u001b[0;36meval_model\u001b[0;34m(actual, model)\u001b[0m\n\u001b[1;32m     97\u001b[0m \u001b[38;5;28;01mdef\u001b[39;00m \u001b[38;5;21meval_model\u001b[39m(actual, model):\n\u001b[1;32m     98\u001b[0m     \u001b[38;5;124;03m\"\"\"This function will accept two series of the model and actual data and calculate the metrics for the model.\"\"\"\u001b[39;00m\n\u001b[0;32m---> 99\u001b[0m     residuals \u001b[38;5;241m=\u001b[39m \u001b[43mmodel\u001b[49m\u001b[43m \u001b[49m\u001b[38;5;241;43m-\u001b[39;49m\u001b[43m \u001b[49m\u001b[43mactual\u001b[49m  \u001b[38;5;66;03m# Calculate residuals\u001b[39;00m\n\u001b[1;32m    100\u001b[0m     SSE \u001b[38;5;241m=\u001b[39m (residuals \u001b[38;5;241m*\u001b[39m\u001b[38;5;241m*\u001b[39m \u001b[38;5;241m2\u001b[39m)\u001b[38;5;241m.\u001b[39msum()\n\u001b[1;32m    101\u001b[0m     MSE \u001b[38;5;241m=\u001b[39m SSE \u001b[38;5;241m/\u001b[39m \u001b[38;5;28mlen\u001b[39m(actual)\n",
      "File \u001b[0;32m/opt/homebrew/anaconda3/lib/python3.10/site-packages/pandas/core/generic.py:2113\u001b[0m, in \u001b[0;36mNDFrame.__array_ufunc__\u001b[0;34m(self, ufunc, method, *inputs, **kwargs)\u001b[0m\n\u001b[1;32m   2109\u001b[0m \u001b[38;5;129m@final\u001b[39m\n\u001b[1;32m   2110\u001b[0m \u001b[38;5;28;01mdef\u001b[39;00m \u001b[38;5;21m__array_ufunc__\u001b[39m(\n\u001b[1;32m   2111\u001b[0m     \u001b[38;5;28mself\u001b[39m, ufunc: np\u001b[38;5;241m.\u001b[39mufunc, method: \u001b[38;5;28mstr\u001b[39m, \u001b[38;5;241m*\u001b[39minputs: Any, \u001b[38;5;241m*\u001b[39m\u001b[38;5;241m*\u001b[39mkwargs: Any\n\u001b[1;32m   2112\u001b[0m ):\n\u001b[0;32m-> 2113\u001b[0m     \u001b[38;5;28;01mreturn\u001b[39;00m \u001b[43marraylike\u001b[49m\u001b[38;5;241;43m.\u001b[39;49m\u001b[43marray_ufunc\u001b[49m\u001b[43m(\u001b[49m\u001b[38;5;28;43mself\u001b[39;49m\u001b[43m,\u001b[49m\u001b[43m \u001b[49m\u001b[43mufunc\u001b[49m\u001b[43m,\u001b[49m\u001b[43m \u001b[49m\u001b[43mmethod\u001b[49m\u001b[43m,\u001b[49m\u001b[43m \u001b[49m\u001b[38;5;241;43m*\u001b[39;49m\u001b[43minputs\u001b[49m\u001b[43m,\u001b[49m\u001b[43m \u001b[49m\u001b[38;5;241;43m*\u001b[39;49m\u001b[38;5;241;43m*\u001b[39;49m\u001b[43mkwargs\u001b[49m\u001b[43m)\u001b[49m\n",
      "File \u001b[0;32m/opt/homebrew/anaconda3/lib/python3.10/site-packages/pandas/core/arraylike.py:265\u001b[0m, in \u001b[0;36marray_ufunc\u001b[0;34m(self, ufunc, method, *inputs, **kwargs)\u001b[0m\n\u001b[1;32m    262\u001b[0m     \u001b[38;5;28;01mreturn\u001b[39;00m result\n\u001b[1;32m    264\u001b[0m \u001b[38;5;66;03m# for binary ops, use our custom dunder methods\u001b[39;00m\n\u001b[0;32m--> 265\u001b[0m result \u001b[38;5;241m=\u001b[39m \u001b[43mmaybe_dispatch_ufunc_to_dunder_op\u001b[49m\u001b[43m(\u001b[49m\u001b[38;5;28;43mself\u001b[39;49m\u001b[43m,\u001b[49m\u001b[43m \u001b[49m\u001b[43mufunc\u001b[49m\u001b[43m,\u001b[49m\u001b[43m \u001b[49m\u001b[43mmethod\u001b[49m\u001b[43m,\u001b[49m\u001b[43m \u001b[49m\u001b[38;5;241;43m*\u001b[39;49m\u001b[43minputs\u001b[49m\u001b[43m,\u001b[49m\u001b[43m \u001b[49m\u001b[38;5;241;43m*\u001b[39;49m\u001b[38;5;241;43m*\u001b[39;49m\u001b[43mkwargs\u001b[49m\u001b[43m)\u001b[49m\n\u001b[1;32m    266\u001b[0m \u001b[38;5;28;01mif\u001b[39;00m result \u001b[38;5;129;01mis\u001b[39;00m \u001b[38;5;129;01mnot\u001b[39;00m \u001b[38;5;28mNotImplemented\u001b[39m:\n\u001b[1;32m    267\u001b[0m     \u001b[38;5;28;01mreturn\u001b[39;00m result\n",
      "File \u001b[0;32m/opt/homebrew/anaconda3/lib/python3.10/site-packages/pandas/_libs/ops_dispatch.pyx:113\u001b[0m, in \u001b[0;36mpandas._libs.ops_dispatch.maybe_dispatch_ufunc_to_dunder_op\u001b[0;34m()\u001b[0m\n",
      "File \u001b[0;32m/opt/homebrew/anaconda3/lib/python3.10/site-packages/pandas/core/ops/common.py:72\u001b[0m, in \u001b[0;36m_unpack_zerodim_and_defer.<locals>.new_method\u001b[0;34m(self, other)\u001b[0m\n\u001b[1;32m     68\u001b[0m             \u001b[38;5;28;01mreturn\u001b[39;00m \u001b[38;5;28mNotImplemented\u001b[39m\n\u001b[1;32m     70\u001b[0m other \u001b[38;5;241m=\u001b[39m item_from_zerodim(other)\n\u001b[0;32m---> 72\u001b[0m \u001b[38;5;28;01mreturn\u001b[39;00m \u001b[43mmethod\u001b[49m\u001b[43m(\u001b[49m\u001b[38;5;28;43mself\u001b[39;49m\u001b[43m,\u001b[49m\u001b[43m \u001b[49m\u001b[43mother\u001b[49m\u001b[43m)\u001b[49m\n",
      "File \u001b[0;32m/opt/homebrew/anaconda3/lib/python3.10/site-packages/pandas/core/arraylike.py:114\u001b[0m, in \u001b[0;36mOpsMixin.__rsub__\u001b[0;34m(self, other)\u001b[0m\n\u001b[1;32m    112\u001b[0m \u001b[38;5;129m@unpack_zerodim_and_defer\u001b[39m(\u001b[38;5;124m\"\u001b[39m\u001b[38;5;124m__rsub__\u001b[39m\u001b[38;5;124m\"\u001b[39m)\n\u001b[1;32m    113\u001b[0m \u001b[38;5;28;01mdef\u001b[39;00m \u001b[38;5;21m__rsub__\u001b[39m(\u001b[38;5;28mself\u001b[39m, other):\n\u001b[0;32m--> 114\u001b[0m     \u001b[38;5;28;01mreturn\u001b[39;00m \u001b[38;5;28;43mself\u001b[39;49m\u001b[38;5;241;43m.\u001b[39;49m\u001b[43m_arith_method\u001b[49m\u001b[43m(\u001b[49m\u001b[43mother\u001b[49m\u001b[43m,\u001b[49m\u001b[43m \u001b[49m\u001b[43mroperator\u001b[49m\u001b[38;5;241;43m.\u001b[39;49m\u001b[43mrsub\u001b[49m\u001b[43m)\u001b[49m\n",
      "File \u001b[0;32m/opt/homebrew/anaconda3/lib/python3.10/site-packages/pandas/core/series.py:6259\u001b[0m, in \u001b[0;36mSeries._arith_method\u001b[0;34m(self, other, op)\u001b[0m\n\u001b[1;32m   6257\u001b[0m \u001b[38;5;28;01mdef\u001b[39;00m \u001b[38;5;21m_arith_method\u001b[39m(\u001b[38;5;28mself\u001b[39m, other, op):\n\u001b[1;32m   6258\u001b[0m     \u001b[38;5;28mself\u001b[39m, other \u001b[38;5;241m=\u001b[39m ops\u001b[38;5;241m.\u001b[39malign_method_SERIES(\u001b[38;5;28mself\u001b[39m, other)\n\u001b[0;32m-> 6259\u001b[0m     \u001b[38;5;28;01mreturn\u001b[39;00m \u001b[43mbase\u001b[49m\u001b[38;5;241;43m.\u001b[39;49m\u001b[43mIndexOpsMixin\u001b[49m\u001b[38;5;241;43m.\u001b[39;49m\u001b[43m_arith_method\u001b[49m\u001b[43m(\u001b[49m\u001b[38;5;28;43mself\u001b[39;49m\u001b[43m,\u001b[49m\u001b[43m \u001b[49m\u001b[43mother\u001b[49m\u001b[43m,\u001b[49m\u001b[43m \u001b[49m\u001b[43mop\u001b[49m\u001b[43m)\u001b[49m\n",
      "File \u001b[0;32m/opt/homebrew/anaconda3/lib/python3.10/site-packages/pandas/core/base.py:1325\u001b[0m, in \u001b[0;36mIndexOpsMixin._arith_method\u001b[0;34m(self, other, op)\u001b[0m\n\u001b[1;32m   1322\u001b[0m rvalues \u001b[38;5;241m=\u001b[39m ensure_wrapped_if_datetimelike(rvalues)\n\u001b[1;32m   1324\u001b[0m \u001b[38;5;28;01mwith\u001b[39;00m np\u001b[38;5;241m.\u001b[39merrstate(\u001b[38;5;28mall\u001b[39m\u001b[38;5;241m=\u001b[39m\u001b[38;5;124m\"\u001b[39m\u001b[38;5;124mignore\u001b[39m\u001b[38;5;124m\"\u001b[39m):\n\u001b[0;32m-> 1325\u001b[0m     result \u001b[38;5;241m=\u001b[39m \u001b[43mops\u001b[49m\u001b[38;5;241;43m.\u001b[39;49m\u001b[43marithmetic_op\u001b[49m\u001b[43m(\u001b[49m\u001b[43mlvalues\u001b[49m\u001b[43m,\u001b[49m\u001b[43m \u001b[49m\u001b[43mrvalues\u001b[49m\u001b[43m,\u001b[49m\u001b[43m \u001b[49m\u001b[43mop\u001b[49m\u001b[43m)\u001b[49m\n\u001b[1;32m   1327\u001b[0m \u001b[38;5;28;01mreturn\u001b[39;00m \u001b[38;5;28mself\u001b[39m\u001b[38;5;241m.\u001b[39m_construct_result(result, name\u001b[38;5;241m=\u001b[39mres_name)\n",
      "File \u001b[0;32m/opt/homebrew/anaconda3/lib/python3.10/site-packages/pandas/core/ops/array_ops.py:226\u001b[0m, in \u001b[0;36marithmetic_op\u001b[0;34m(left, right, op)\u001b[0m\n\u001b[1;32m    222\u001b[0m     _bool_arith_check(op, left, right)\n\u001b[1;32m    224\u001b[0m     \u001b[38;5;66;03m# error: Argument 1 to \"_na_arithmetic_op\" has incompatible type\u001b[39;00m\n\u001b[1;32m    225\u001b[0m     \u001b[38;5;66;03m# \"Union[ExtensionArray, ndarray[Any, Any]]\"; expected \"ndarray[Any, Any]\"\u001b[39;00m\n\u001b[0;32m--> 226\u001b[0m     res_values \u001b[38;5;241m=\u001b[39m \u001b[43m_na_arithmetic_op\u001b[49m\u001b[43m(\u001b[49m\u001b[43mleft\u001b[49m\u001b[43m,\u001b[49m\u001b[43m \u001b[49m\u001b[43mright\u001b[49m\u001b[43m,\u001b[49m\u001b[43m \u001b[49m\u001b[43mop\u001b[49m\u001b[43m)\u001b[49m  \u001b[38;5;66;03m# type: ignore[arg-type]\u001b[39;00m\n\u001b[1;32m    228\u001b[0m \u001b[38;5;28;01mreturn\u001b[39;00m res_values\n",
      "File \u001b[0;32m/opt/homebrew/anaconda3/lib/python3.10/site-packages/pandas/core/ops/array_ops.py:165\u001b[0m, in \u001b[0;36m_na_arithmetic_op\u001b[0;34m(left, right, op, is_cmp)\u001b[0m\n\u001b[1;32m    162\u001b[0m     func \u001b[38;5;241m=\u001b[39m partial(expressions\u001b[38;5;241m.\u001b[39mevaluate, op)\n\u001b[1;32m    164\u001b[0m \u001b[38;5;28;01mtry\u001b[39;00m:\n\u001b[0;32m--> 165\u001b[0m     result \u001b[38;5;241m=\u001b[39m \u001b[43mfunc\u001b[49m\u001b[43m(\u001b[49m\u001b[43mleft\u001b[49m\u001b[43m,\u001b[49m\u001b[43m \u001b[49m\u001b[43mright\u001b[49m\u001b[43m)\u001b[49m\n\u001b[1;32m    166\u001b[0m \u001b[38;5;28;01mexcept\u001b[39;00m \u001b[38;5;167;01mTypeError\u001b[39;00m:\n\u001b[1;32m    167\u001b[0m     \u001b[38;5;28;01mif\u001b[39;00m \u001b[38;5;129;01mnot\u001b[39;00m is_cmp \u001b[38;5;129;01mand\u001b[39;00m (is_object_dtype(left\u001b[38;5;241m.\u001b[39mdtype) \u001b[38;5;129;01mor\u001b[39;00m is_object_dtype(right)):\n\u001b[1;32m    168\u001b[0m         \u001b[38;5;66;03m# For object dtype, fallback to a masked operation (only operating\u001b[39;00m\n\u001b[1;32m    169\u001b[0m         \u001b[38;5;66;03m#  on the non-missing values)\u001b[39;00m\n\u001b[1;32m    170\u001b[0m         \u001b[38;5;66;03m# Don't do this for comparisons, as that will handle complex numbers\u001b[39;00m\n\u001b[1;32m    171\u001b[0m         \u001b[38;5;66;03m#  incorrectly, see GH#32047\u001b[39;00m\n",
      "File \u001b[0;32m/opt/homebrew/anaconda3/lib/python3.10/site-packages/pandas/core/computation/expressions.py:241\u001b[0m, in \u001b[0;36mevaluate\u001b[0;34m(op, a, b, use_numexpr)\u001b[0m\n\u001b[1;32m    238\u001b[0m \u001b[38;5;28;01mif\u001b[39;00m op_str \u001b[38;5;129;01mis\u001b[39;00m \u001b[38;5;129;01mnot\u001b[39;00m \u001b[38;5;28;01mNone\u001b[39;00m:\n\u001b[1;32m    239\u001b[0m     \u001b[38;5;28;01mif\u001b[39;00m use_numexpr:\n\u001b[1;32m    240\u001b[0m         \u001b[38;5;66;03m# error: \"None\" not callable\u001b[39;00m\n\u001b[0;32m--> 241\u001b[0m         \u001b[38;5;28;01mreturn\u001b[39;00m \u001b[43m_evaluate\u001b[49m\u001b[43m(\u001b[49m\u001b[43mop\u001b[49m\u001b[43m,\u001b[49m\u001b[43m \u001b[49m\u001b[43mop_str\u001b[49m\u001b[43m,\u001b[49m\u001b[43m \u001b[49m\u001b[43ma\u001b[49m\u001b[43m,\u001b[49m\u001b[43m \u001b[49m\u001b[43mb\u001b[49m\u001b[43m)\u001b[49m  \u001b[38;5;66;03m# type: ignore[misc]\u001b[39;00m\n\u001b[1;32m    242\u001b[0m \u001b[38;5;28;01mreturn\u001b[39;00m _evaluate_standard(op, op_str, a, b)\n",
      "File \u001b[0;32m/opt/homebrew/anaconda3/lib/python3.10/site-packages/pandas/core/computation/expressions.py:129\u001b[0m, in \u001b[0;36m_evaluate_numexpr\u001b[0;34m(op, op_str, a, b)\u001b[0m\n\u001b[1;32m    126\u001b[0m     _store_test_result(result \u001b[38;5;129;01mis\u001b[39;00m \u001b[38;5;129;01mnot\u001b[39;00m \u001b[38;5;28;01mNone\u001b[39;00m)\n\u001b[1;32m    128\u001b[0m \u001b[38;5;28;01mif\u001b[39;00m result \u001b[38;5;129;01mis\u001b[39;00m \u001b[38;5;28;01mNone\u001b[39;00m:\n\u001b[0;32m--> 129\u001b[0m     result \u001b[38;5;241m=\u001b[39m \u001b[43m_evaluate_standard\u001b[49m\u001b[43m(\u001b[49m\u001b[43mop\u001b[49m\u001b[43m,\u001b[49m\u001b[43m \u001b[49m\u001b[43mop_str\u001b[49m\u001b[43m,\u001b[49m\u001b[43m \u001b[49m\u001b[43ma\u001b[49m\u001b[43m,\u001b[49m\u001b[43m \u001b[49m\u001b[43mb\u001b[49m\u001b[43m)\u001b[49m\n\u001b[1;32m    131\u001b[0m \u001b[38;5;28;01mreturn\u001b[39;00m result\n",
      "File \u001b[0;32m/opt/homebrew/anaconda3/lib/python3.10/site-packages/pandas/core/computation/expressions.py:70\u001b[0m, in \u001b[0;36m_evaluate_standard\u001b[0;34m(op, op_str, a, b)\u001b[0m\n\u001b[1;32m     68\u001b[0m \u001b[38;5;28;01mif\u001b[39;00m _TEST_MODE:\n\u001b[1;32m     69\u001b[0m     _store_test_result(\u001b[38;5;28;01mFalse\u001b[39;00m)\n\u001b[0;32m---> 70\u001b[0m \u001b[38;5;28;01mreturn\u001b[39;00m \u001b[43mop\u001b[49m\u001b[43m(\u001b[49m\u001b[43ma\u001b[49m\u001b[43m,\u001b[49m\u001b[43m \u001b[49m\u001b[43mb\u001b[49m\u001b[43m)\u001b[49m\n",
      "File \u001b[0;32m/opt/homebrew/anaconda3/lib/python3.10/site-packages/pandas/core/roperator.py:15\u001b[0m, in \u001b[0;36mrsub\u001b[0;34m(left, right)\u001b[0m\n\u001b[1;32m     14\u001b[0m \u001b[38;5;28;01mdef\u001b[39;00m \u001b[38;5;21mrsub\u001b[39m(left, right):\n\u001b[0;32m---> 15\u001b[0m     \u001b[38;5;28;01mreturn\u001b[39;00m \u001b[43mright\u001b[49m\u001b[43m \u001b[49m\u001b[38;5;241;43m-\u001b[39;49m\u001b[43m \u001b[49m\u001b[43mleft\u001b[49m\n",
      "\u001b[0;31mValueError\u001b[0m: operands could not be broadcast together with shapes (901,) (4206,) "
     ]
    }
   ],
   "source": [
    "\n",
    "\n",
    "xgbr = XGBRegressor(max_depth=6, random_state=100)  # Create best model\n",
    "ev.train_model_gen2(xgbr, x_train, y_train, x_val, y_val) # Evaluate\n",
    "ev.train_model_gen2(xgbr, x_train_s, y_train, x_val_s, y_val) # Evaluate"
   ]
  },
  {
   "cell_type": "code",
   "execution_count": null,
   "id": "5d7bacad-f31b-4450-bd01-edfbbeda744f",
   "metadata": {},
   "outputs": [],
   "source": []
  }
 ],
 "metadata": {
  "kernelspec": {
   "display_name": "Python 3 (ipykernel)",
   "language": "python",
   "name": "python3"
  },
  "language_info": {
   "codemirror_mode": {
    "name": "ipython",
    "version": 3
   },
   "file_extension": ".py",
   "mimetype": "text/x-python",
   "name": "python",
   "nbconvert_exporter": "python",
   "pygments_lexer": "ipython3",
   "version": "3.10.9"
  }
 },
 "nbformat": 4,
 "nbformat_minor": 5
}
