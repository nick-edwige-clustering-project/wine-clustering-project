{
 "cells": [
  {
   "cell_type": "markdown",
   "id": "3db795d4-fc3f-4535-adf0-7394c1544517",
   "metadata": {},
   "source": [
    "# Modeling"
   ]
  },
  {
   "cell_type": "code",
   "execution_count": 1,
   "id": "4d3dbe31-0150-4064-a84d-2ac238a8a6c4",
   "metadata": {},
   "outputs": [],
   "source": [
    "import sys\n",
    "\n",
    "sys.path.append('/Users/nickolaspedrimiranda/CodeUp/Regression-Project/')"
   ]
  },
  {
   "cell_type": "code",
   "execution_count": 2,
   "id": "0f32169f-ccfa-4080-a758-12f0aa913ec9",
   "metadata": {},
   "outputs": [],
   "source": [
    "# Import basic DS libraries\n",
    "import pandas as pd\n",
    "import numpy as np\n",
    "\n",
    "# Import libraries for visuals\n",
    "import matplotlib.pyplot as plt\n",
    "import seaborn as sns\n",
    "\n",
    "# Import useful DS functions\n",
    "import acquire as ac\n",
    "import prepare as prep\n",
    "import evaluate as ev\n",
    "import explore as ex\n",
    "\n",
    "# For modeling\n",
    "from sklearn.linear_model import LinearRegression, LassoLars, TweedieRegressor\n",
    "from sklearn.preprocessing import PolynomialFeatures\n",
    "\n",
    "from sklearn.ensemble import RandomForestRegressor\n",
    "from xgboost import XGBRegressor\n",
    "\n",
    "from sklearn.neighbors import KNeighborsClassifier\n",
    "from sklearn.ensemble import RandomForestClassifier\n",
    "from sklearn.tree import DecisionTreeClassifier\n",
    "from sklearn.linear_model import LogisticRegression\n",
    "\n",
    "seed = 100"
   ]
  },
  {
   "cell_type": "code",
   "execution_count": 3,
   "id": "db3796b6-f7d9-4621-af42-7ccf27aef59b",
   "metadata": {},
   "outputs": [],
   "source": [
    "wine = ac.get_wine()"
   ]
  },
  {
   "cell_type": "code",
   "execution_count": 4,
   "id": "d230ce5b-0901-4497-b573-0dc0df8fab96",
   "metadata": {},
   "outputs": [
    {
     "data": {
      "text/html": [
       "<div>\n",
       "<style scoped>\n",
       "    .dataframe tbody tr th:only-of-type {\n",
       "        vertical-align: middle;\n",
       "    }\n",
       "\n",
       "    .dataframe tbody tr th {\n",
       "        vertical-align: top;\n",
       "    }\n",
       "\n",
       "    .dataframe thead th {\n",
       "        text-align: right;\n",
       "    }\n",
       "</style>\n",
       "<table border=\"1\" class=\"dataframe\">\n",
       "  <thead>\n",
       "    <tr style=\"text-align: right;\">\n",
       "      <th></th>\n",
       "      <th>fixed_acidity</th>\n",
       "      <th>volatile_acidity</th>\n",
       "      <th>citric_acid</th>\n",
       "      <th>residual_sugar</th>\n",
       "      <th>chlorides</th>\n",
       "      <th>free_sulfur_dioxide</th>\n",
       "      <th>total_sulfur_dioxide</th>\n",
       "      <th>density</th>\n",
       "      <th>pH</th>\n",
       "      <th>sulphates</th>\n",
       "      <th>alcohol</th>\n",
       "      <th>quality</th>\n",
       "      <th>wine_type</th>\n",
       "    </tr>\n",
       "  </thead>\n",
       "  <tbody>\n",
       "    <tr>\n",
       "      <th>0</th>\n",
       "      <td>7.4</td>\n",
       "      <td>0.70</td>\n",
       "      <td>0.00</td>\n",
       "      <td>1.9</td>\n",
       "      <td>0.076</td>\n",
       "      <td>11.0</td>\n",
       "      <td>34.0</td>\n",
       "      <td>0.9978</td>\n",
       "      <td>3.51</td>\n",
       "      <td>0.56</td>\n",
       "      <td>9.4</td>\n",
       "      <td>5</td>\n",
       "      <td>red</td>\n",
       "    </tr>\n",
       "    <tr>\n",
       "      <th>1</th>\n",
       "      <td>7.8</td>\n",
       "      <td>0.88</td>\n",
       "      <td>0.00</td>\n",
       "      <td>2.6</td>\n",
       "      <td>0.098</td>\n",
       "      <td>25.0</td>\n",
       "      <td>67.0</td>\n",
       "      <td>0.9968</td>\n",
       "      <td>3.20</td>\n",
       "      <td>0.68</td>\n",
       "      <td>9.8</td>\n",
       "      <td>5</td>\n",
       "      <td>red</td>\n",
       "    </tr>\n",
       "    <tr>\n",
       "      <th>2</th>\n",
       "      <td>7.8</td>\n",
       "      <td>0.76</td>\n",
       "      <td>0.04</td>\n",
       "      <td>2.3</td>\n",
       "      <td>0.092</td>\n",
       "      <td>15.0</td>\n",
       "      <td>54.0</td>\n",
       "      <td>0.9970</td>\n",
       "      <td>3.26</td>\n",
       "      <td>0.65</td>\n",
       "      <td>9.8</td>\n",
       "      <td>5</td>\n",
       "      <td>red</td>\n",
       "    </tr>\n",
       "    <tr>\n",
       "      <th>3</th>\n",
       "      <td>11.2</td>\n",
       "      <td>0.28</td>\n",
       "      <td>0.56</td>\n",
       "      <td>1.9</td>\n",
       "      <td>0.075</td>\n",
       "      <td>17.0</td>\n",
       "      <td>60.0</td>\n",
       "      <td>0.9980</td>\n",
       "      <td>3.16</td>\n",
       "      <td>0.58</td>\n",
       "      <td>9.8</td>\n",
       "      <td>6</td>\n",
       "      <td>red</td>\n",
       "    </tr>\n",
       "    <tr>\n",
       "      <th>4</th>\n",
       "      <td>7.4</td>\n",
       "      <td>0.70</td>\n",
       "      <td>0.00</td>\n",
       "      <td>1.9</td>\n",
       "      <td>0.076</td>\n",
       "      <td>11.0</td>\n",
       "      <td>34.0</td>\n",
       "      <td>0.9978</td>\n",
       "      <td>3.51</td>\n",
       "      <td>0.56</td>\n",
       "      <td>9.4</td>\n",
       "      <td>5</td>\n",
       "      <td>red</td>\n",
       "    </tr>\n",
       "  </tbody>\n",
       "</table>\n",
       "</div>"
      ],
      "text/plain": [
       "   fixed_acidity  volatile_acidity  citric_acid  residual_sugar  chlorides  \\\n",
       "0            7.4              0.70         0.00             1.9      0.076   \n",
       "1            7.8              0.88         0.00             2.6      0.098   \n",
       "2            7.8              0.76         0.04             2.3      0.092   \n",
       "3           11.2              0.28         0.56             1.9      0.075   \n",
       "4            7.4              0.70         0.00             1.9      0.076   \n",
       "\n",
       "   free_sulfur_dioxide  total_sulfur_dioxide  density    pH  sulphates  \\\n",
       "0                 11.0                  34.0   0.9978  3.51       0.56   \n",
       "1                 25.0                  67.0   0.9968  3.20       0.68   \n",
       "2                 15.0                  54.0   0.9970  3.26       0.65   \n",
       "3                 17.0                  60.0   0.9980  3.16       0.58   \n",
       "4                 11.0                  34.0   0.9978  3.51       0.56   \n",
       "\n",
       "   alcohol  quality wine_type  \n",
       "0      9.4        5       red  \n",
       "1      9.8        5       red  \n",
       "2      9.8        5       red  \n",
       "3      9.8        6       red  \n",
       "4      9.4        5       red  "
      ]
     },
     "execution_count": 4,
     "metadata": {},
     "output_type": "execute_result"
    }
   ],
   "source": [
    "wine.head()"
   ]
  },
  {
   "cell_type": "code",
   "execution_count": 5,
   "id": "e2a5c17e-fe7e-4422-b319-3385a02a5614",
   "metadata": {},
   "outputs": [],
   "source": [
    "wine = ex.reajust_range(wine)\n",
    "# wine = wine.drop(columns='residual_sugar')"
   ]
  },
  {
   "cell_type": "code",
   "execution_count": 6,
   "id": "97960ca1-b937-4ec6-b06c-101cd186c6cb",
   "metadata": {},
   "outputs": [],
   "source": [
    "train, val, test = prep.train_val_test(wine, strat='quality', seed=seed)\n",
    "train, val, test = prep.scale(wine, train=train, val=val, test=test, scaled_cols=(wine.select_dtypes(float).columns))\n",
    "train, val, test = prep.dummies(train, val, test, drop_first=['wine_type'])"
   ]
  },
  {
   "cell_type": "code",
   "execution_count": 7,
   "id": "88087f6b-cb5c-493d-baac-733c4a73d953",
   "metadata": {},
   "outputs": [
    {
     "data": {
      "text/html": [
       "<div>\n",
       "<style scoped>\n",
       "    .dataframe tbody tr th:only-of-type {\n",
       "        vertical-align: middle;\n",
       "    }\n",
       "\n",
       "    .dataframe tbody tr th {\n",
       "        vertical-align: top;\n",
       "    }\n",
       "\n",
       "    .dataframe thead th {\n",
       "        text-align: right;\n",
       "    }\n",
       "</style>\n",
       "<table border=\"1\" class=\"dataframe\">\n",
       "  <thead>\n",
       "    <tr style=\"text-align: right;\">\n",
       "      <th></th>\n",
       "      <th>fixed_acidity</th>\n",
       "      <th>volatile_acidity</th>\n",
       "      <th>citric_acid</th>\n",
       "      <th>residual_sugar</th>\n",
       "      <th>chlorides</th>\n",
       "      <th>free_sulfur_dioxide</th>\n",
       "      <th>total_sulfur_dioxide</th>\n",
       "      <th>density</th>\n",
       "      <th>pH</th>\n",
       "      <th>sulphates</th>\n",
       "      <th>alcohol</th>\n",
       "      <th>quality</th>\n",
       "      <th>wine_type_white</th>\n",
       "    </tr>\n",
       "  </thead>\n",
       "  <tbody>\n",
       "    <tr>\n",
       "      <th>324</th>\n",
       "      <td>0.739726</td>\n",
       "      <td>0.573427</td>\n",
       "      <td>0.253165</td>\n",
       "      <td>0.514851</td>\n",
       "      <td>0.563636</td>\n",
       "      <td>0.152866</td>\n",
       "      <td>0.173913</td>\n",
       "      <td>0.928986</td>\n",
       "      <td>0.400000</td>\n",
       "      <td>0.610390</td>\n",
       "      <td>0.137931</td>\n",
       "      <td>6</td>\n",
       "      <td>0</td>\n",
       "    </tr>\n",
       "    <tr>\n",
       "      <th>5697</th>\n",
       "      <td>0.273973</td>\n",
       "      <td>0.181818</td>\n",
       "      <td>0.430380</td>\n",
       "      <td>0.247525</td>\n",
       "      <td>0.336364</td>\n",
       "      <td>0.369427</td>\n",
       "      <td>0.529644</td>\n",
       "      <td>0.379600</td>\n",
       "      <td>0.457143</td>\n",
       "      <td>0.207792</td>\n",
       "      <td>0.448276</td>\n",
       "      <td>5</td>\n",
       "      <td>1</td>\n",
       "    </tr>\n",
       "    <tr>\n",
       "      <th>2405</th>\n",
       "      <td>0.246575</td>\n",
       "      <td>0.321678</td>\n",
       "      <td>0.329114</td>\n",
       "      <td>0.623762</td>\n",
       "      <td>0.336364</td>\n",
       "      <td>0.713376</td>\n",
       "      <td>0.786561</td>\n",
       "      <td>0.670755</td>\n",
       "      <td>0.409524</td>\n",
       "      <td>0.246753</td>\n",
       "      <td>0.206897</td>\n",
       "      <td>5</td>\n",
       "      <td>1</td>\n",
       "    </tr>\n",
       "    <tr>\n",
       "      <th>3107</th>\n",
       "      <td>0.301370</td>\n",
       "      <td>0.181818</td>\n",
       "      <td>0.620253</td>\n",
       "      <td>0.688119</td>\n",
       "      <td>0.463636</td>\n",
       "      <td>0.624204</td>\n",
       "      <td>0.648221</td>\n",
       "      <td>0.774048</td>\n",
       "      <td>0.771429</td>\n",
       "      <td>0.285714</td>\n",
       "      <td>0.241379</td>\n",
       "      <td>6</td>\n",
       "      <td>1</td>\n",
       "    </tr>\n",
       "    <tr>\n",
       "      <th>5166</th>\n",
       "      <td>0.315068</td>\n",
       "      <td>0.251748</td>\n",
       "      <td>0.341772</td>\n",
       "      <td>0.178218</td>\n",
       "      <td>0.200000</td>\n",
       "      <td>0.242038</td>\n",
       "      <td>0.292490</td>\n",
       "      <td>0.244028</td>\n",
       "      <td>0.361905</td>\n",
       "      <td>0.220779</td>\n",
       "      <td>0.534483</td>\n",
       "      <td>6</td>\n",
       "      <td>1</td>\n",
       "    </tr>\n",
       "  </tbody>\n",
       "</table>\n",
       "</div>"
      ],
      "text/plain": [
       "      fixed_acidity  volatile_acidity  citric_acid  residual_sugar  chlorides  \\\n",
       "324        0.739726          0.573427     0.253165        0.514851   0.563636   \n",
       "5697       0.273973          0.181818     0.430380        0.247525   0.336364   \n",
       "2405       0.246575          0.321678     0.329114        0.623762   0.336364   \n",
       "3107       0.301370          0.181818     0.620253        0.688119   0.463636   \n",
       "5166       0.315068          0.251748     0.341772        0.178218   0.200000   \n",
       "\n",
       "      free_sulfur_dioxide  total_sulfur_dioxide   density        pH  \\\n",
       "324              0.152866              0.173913  0.928986  0.400000   \n",
       "5697             0.369427              0.529644  0.379600  0.457143   \n",
       "2405             0.713376              0.786561  0.670755  0.409524   \n",
       "3107             0.624204              0.648221  0.774048  0.771429   \n",
       "5166             0.242038              0.292490  0.244028  0.361905   \n",
       "\n",
       "      sulphates   alcohol  quality  wine_type_white  \n",
       "324    0.610390  0.137931        6                0  \n",
       "5697   0.207792  0.448276        5                1  \n",
       "2405   0.246753  0.206897        5                1  \n",
       "3107   0.285714  0.241379        6                1  \n",
       "5166   0.220779  0.534483        6                1  "
      ]
     },
     "execution_count": 7,
     "metadata": {},
     "output_type": "execute_result"
    }
   ],
   "source": [
    "train.head()"
   ]
  },
  {
   "cell_type": "code",
   "execution_count": 8,
   "id": "4a4e31c7-1773-4c88-8393-4268677adeb1",
   "metadata": {},
   "outputs": [],
   "source": [
    "x_train, y_train = prep.split_xy(train, 'quality')\n",
    "x_val, y_val = prep.split_xy(val, 'quality')"
   ]
  },
  {
   "cell_type": "markdown",
   "id": "52bc9c02-e441-4da2-a457-6ba78bbb2a30",
   "metadata": {},
   "source": [
    "## BASELINE"
   ]
  },
  {
   "cell_type": "code",
   "execution_count": 9,
   "id": "3cf25be2-28fe-4f93-a9bb-6444555f2545",
   "metadata": {},
   "outputs": [],
   "source": [
    "results = ev.baseline(train.quality)"
   ]
  },
  {
   "cell_type": "code",
   "execution_count": 10,
   "id": "37e5a8f8-d5d4-4779-b17e-e8e3ca1c5e18",
   "metadata": {},
   "outputs": [
    {
     "data": {
      "text/html": [
       "<div>\n",
       "<style scoped>\n",
       "    .dataframe tbody tr th:only-of-type {\n",
       "        vertical-align: middle;\n",
       "    }\n",
       "\n",
       "    .dataframe tbody tr th {\n",
       "        vertical-align: top;\n",
       "    }\n",
       "\n",
       "    .dataframe thead th {\n",
       "        text-align: right;\n",
       "    }\n",
       "</style>\n",
       "<table border=\"1\" class=\"dataframe\">\n",
       "  <thead>\n",
       "    <tr style=\"text-align: right;\">\n",
       "      <th></th>\n",
       "      <th>quality</th>\n",
       "      <th>base_median</th>\n",
       "      <th>base_mean</th>\n",
       "    </tr>\n",
       "  </thead>\n",
       "  <tbody>\n",
       "    <tr>\n",
       "      <th>324</th>\n",
       "      <td>6</td>\n",
       "      <td>6.0</td>\n",
       "      <td>5.83048</td>\n",
       "    </tr>\n",
       "    <tr>\n",
       "      <th>5697</th>\n",
       "      <td>5</td>\n",
       "      <td>6.0</td>\n",
       "      <td>5.83048</td>\n",
       "    </tr>\n",
       "    <tr>\n",
       "      <th>2405</th>\n",
       "      <td>5</td>\n",
       "      <td>6.0</td>\n",
       "      <td>5.83048</td>\n",
       "    </tr>\n",
       "    <tr>\n",
       "      <th>3107</th>\n",
       "      <td>6</td>\n",
       "      <td>6.0</td>\n",
       "      <td>5.83048</td>\n",
       "    </tr>\n",
       "    <tr>\n",
       "      <th>5166</th>\n",
       "      <td>6</td>\n",
       "      <td>6.0</td>\n",
       "      <td>5.83048</td>\n",
       "    </tr>\n",
       "  </tbody>\n",
       "</table>\n",
       "</div>"
      ],
      "text/plain": [
       "      quality  base_median  base_mean\n",
       "324         6          6.0    5.83048\n",
       "5697        5          6.0    5.83048\n",
       "2405        5          6.0    5.83048\n",
       "3107        6          6.0    5.83048\n",
       "5166        6          6.0    5.83048"
      ]
     },
     "execution_count": 10,
     "metadata": {},
     "output_type": "execute_result"
    }
   ],
   "source": [
    "results.head()"
   ]
  },
  {
   "cell_type": "code",
   "execution_count": 11,
   "id": "11002ce9-4de7-4a77-ba1d-cbb33ddea3f1",
   "metadata": {},
   "outputs": [
    {
     "data": {
      "text/plain": [
       "(3193.0, 0.7591535901093676, 0.8712942041063785)"
      ]
     },
     "execution_count": 11,
     "metadata": {},
     "output_type": "execute_result"
    }
   ],
   "source": [
    "SSE, MSE, RMSE = ev.eval_model(results.quality, results.base_mean.round())\n",
    "SSE, MSE, RMSE"
   ]
  },
  {
   "cell_type": "code",
   "execution_count": 12,
   "id": "70b01aff-0a85-4df7-8152-9d06614618ee",
   "metadata": {},
   "outputs": [
    {
     "data": {
      "text/plain": [
       "(3193.0, 0.7591535901093676, 0.8712942041063785)"
      ]
     },
     "execution_count": 12,
     "metadata": {},
     "output_type": "execute_result"
    }
   ],
   "source": [
    "SSE, MSE, RMSE = ev.eval_model(results.quality, results.base_median)\n",
    "SSE, MSE, RMSE"
   ]
  },
  {
   "cell_type": "markdown",
   "id": "d74b4542-da89-4654-82cc-78d018b10181",
   "metadata": {},
   "source": [
    "## POLYNOMIAL FEATURES"
   ]
  },
  {
   "cell_type": "code",
   "execution_count": 13,
   "id": "47366bae-be4f-40f0-98bf-24e94120852a",
   "metadata": {},
   "outputs": [],
   "source": [
    "poly = PolynomialFeatures()\n",
    "x_train_s = poly.fit_transform(x_train)\n",
    "x_val_s = poly.transform(x_val)"
   ]
  },
  {
   "cell_type": "markdown",
   "id": "d50be7a4-a577-4d95-bb76-fd76528f7605",
   "metadata": {},
   "source": [
    "## Linear Regression"
   ]
  },
  {
   "cell_type": "code",
   "execution_count": 14,
   "id": "befc76ca-0920-46ca-b6de-6bb012e6980a",
   "metadata": {},
   "outputs": [
    {
     "name": "stdout",
     "output_type": "stream",
     "text": [
      "The train RMSE is 0.7795532573385248.\n",
      "The validate RMSE is 0.7684107299774686.\n"
     ]
    }
   ],
   "source": [
    "lm = LinearRegression()  # Create model object\n",
    "ev.train_model_gen2(lm, x_train, y_train, x_val, y_val)  # Check train and validate"
   ]
  },
  {
   "cell_type": "code",
   "execution_count": 15,
   "id": "0e6ff341-bb98-4c73-bce2-d2a2f2947602",
   "metadata": {},
   "outputs": [
    {
     "name": "stdout",
     "output_type": "stream",
     "text": [
      "The train RMSE is 0.7426930472507584.\n",
      "The validate RMSE is 0.7479160837744295.\n"
     ]
    }
   ],
   "source": [
    "lm = LinearRegression()  # Create model object\n",
    "ev.train_model_gen2(lm, x_train_s, y_train, x_val_s, y_val)  # Check train and validate"
   ]
  },
  {
   "cell_type": "markdown",
   "id": "18ce453f-0a19-46a9-8387-4356e6e1d44b",
   "metadata": {},
   "source": [
    "## XGBRegressor"
   ]
  },
  {
   "cell_type": "code",
   "execution_count": 16,
   "id": "f5b80177-bc4b-40a5-8386-3806ab4a1ddf",
   "metadata": {},
   "outputs": [
    {
     "name": "stdout",
     "output_type": "stream",
     "text": [
      "The train RMSE is 0.6699869765449888.\n",
      "The validate RMSE is 0.7988615651174962.\n"
     ]
    }
   ],
   "source": [
    "xgbr = XGBRegressor(max_depth=8, n_estimators=8, random_state=100)  # Create best model\n",
    "\n",
    "ev.train_model_gen2(xgbr, x_train, y_train, x_val, y_val) # Evaluate"
   ]
  },
  {
   "cell_type": "code",
   "execution_count": 17,
   "id": "7b9663ed-a238-4e44-8d7e-110390195fd7",
   "metadata": {},
   "outputs": [
    {
     "name": "stdout",
     "output_type": "stream",
     "text": [
      "The train RMSE is 0.6251961175897992.\n",
      "The validate RMSE is 0.7995559255833236.\n"
     ]
    }
   ],
   "source": [
    "xgbr = XGBRegressor(max_depth=8, n_estimators=8, random_state=100)  # Create best model\n",
    "\n",
    "ev.train_model_gen2(xgbr, x_train_s, y_train, x_val_s, y_val) # Evaluate"
   ]
  },
  {
   "cell_type": "markdown",
   "id": "8b5ba15c-19fe-45ab-974c-aef551ef7034",
   "metadata": {},
   "source": [
    "## Random Forest Regressor"
   ]
  },
  {
   "cell_type": "code",
   "execution_count": 18,
   "id": "ec1ffd27-3726-4c15-9be6-662c21d3f51b",
   "metadata": {},
   "outputs": [
    {
     "name": "stdout",
     "output_type": "stream",
     "text": [
      "The train RMSE is 0.6810735281429181.\n",
      "The validate RMSE is 0.7351942218490143.\n"
     ]
    }
   ],
   "source": [
    "# Create best model\n",
    "rf = RandomForestRegressor(max_depth=6, min_samples_split=8, random_state=100)\n",
    "\n",
    "ev.train_model_gen2(rf, x_train, y_train, x_val, y_val)  # Evaluate model"
   ]
  },
  {
   "cell_type": "code",
   "execution_count": 19,
   "id": "718d52c7-c4fd-4e5b-a771-ec511f6fc557",
   "metadata": {},
   "outputs": [
    {
     "name": "stdout",
     "output_type": "stream",
     "text": [
      "The train RMSE is 0.6715819749108831.\n",
      "The validate RMSE is 0.732168718388364.\n"
     ]
    }
   ],
   "source": [
    "# Create best model\n",
    "rf = RandomForestRegressor(max_depth=6, min_samples_split=8, random_state=100)\n",
    "\n",
    "ev.train_model_gen2(rf, x_train_s, y_train, x_val_s, y_val)  # Evaluate model"
   ]
  },
  {
   "cell_type": "markdown",
   "id": "4c765038-6891-4ae0-b8a5-d2a98e6ecb3d",
   "metadata": {},
   "source": [
    "## LASSO LARS"
   ]
  },
  {
   "cell_type": "code",
   "execution_count": 20,
   "id": "4c662b66-dc70-499a-9afb-f945821ec6a2",
   "metadata": {},
   "outputs": [
    {
     "name": "stdout",
     "output_type": "stream",
     "text": [
      "The train RMSE is 0.716771885110661.\n",
      "The validate RMSE is 0.7163999296023469.\n"
     ]
    }
   ],
   "source": [
    "ll = LassoLars(alpha=0)\n",
    "ev.train_model(ll, x_train, y_train, x_val, y_val)"
   ]
  },
  {
   "cell_type": "markdown",
   "id": "d8d223cf-d159-407f-b262-79467f84a4be",
   "metadata": {},
   "source": [
    "## KNN"
   ]
  },
  {
   "cell_type": "code",
   "execution_count": 21,
   "id": "32f23a0f-d343-4d1b-b4af-d187ea8cec48",
   "metadata": {},
   "outputs": [
    {
     "name": "stdout",
     "output_type": "stream",
     "text": [
      "The train RMSE is 0.7062656880124635.\n",
      "The validate RMSE is 0.784137975129349.\n"
     ]
    }
   ],
   "source": [
    "knn = KNeighborsClassifier(n_neighbors=7, weights='uniform')\n",
    "ev.train_model(knn, x_train, y_train, x_val, y_val)"
   ]
  },
  {
   "cell_type": "code",
   "execution_count": 27,
   "id": "def6b688-156f-4748-96a5-c703b2402ea9",
   "metadata": {},
   "outputs": [
    {
     "name": "stdout",
     "output_type": "stream",
     "text": [
      "The train RMSE is 0.7094565372322593.\n",
      "The validate RMSE is 0.7791682864734351.\n"
     ]
    }
   ],
   "source": [
    "knn = KNeighborsClassifier(n_neighbors=7, weights='uniform')\n",
    "ev.train_model(knn, x_train_s, y_train, x_val_s, y_val)"
   ]
  },
  {
   "cell_type": "markdown",
   "id": "1bc91aa8-4b9e-4a25-b531-a35a76c12b64",
   "metadata": {},
   "source": [
    "## Random Forest Classifier"
   ]
  },
  {
   "cell_type": "code",
   "execution_count": 26,
   "id": "8eb0b1f7-0131-4ae2-9b85-d8aeae6bce12",
   "metadata": {},
   "outputs": [
    {
     "name": "stdout",
     "output_type": "stream",
     "text": [
      "The train RMSE is 0.7635291087787347.\n",
      "The validate RMSE is 0.7684107299774686.\n"
     ]
    }
   ],
   "source": [
    "rf1 = RandomForestClassifier(max_depth=5, random_state=seed)\n",
    "ev.train_model(rf1, x_train, y_train, x_val, y_val)"
   ]
  },
  {
   "cell_type": "code",
   "execution_count": 25,
   "id": "8d4de09d-12d0-4f4d-99c8-3ba748f55267",
   "metadata": {},
   "outputs": [
    {
     "name": "stdout",
     "output_type": "stream",
     "text": [
      "The train RMSE is 0.7328641563154681.\n",
      "The validate RMSE is 0.7508781392624222.\n"
     ]
    }
   ],
   "source": [
    "rf1 = RandomForestClassifier(max_depth=5, random_state=seed)\n",
    "ev.train_model(rf1, x_train_s, y_train, x_val_s, y_val)"
   ]
  },
  {
   "cell_type": "markdown",
   "id": "5ca05343-52d4-48d2-963e-6ca2eec44421",
   "metadata": {},
   "source": [
    "## Decision Tree"
   ]
  },
  {
   "cell_type": "code",
   "execution_count": 23,
   "id": "2ca89947-efc2-4669-a66d-84d66b54f23c",
   "metadata": {},
   "outputs": [
    {
     "name": "stdout",
     "output_type": "stream",
     "text": [
      "The train RMSE is 0.7977917692512981.\n",
      "The validate RMSE is 0.8016353983424719.\n"
     ]
    }
   ],
   "source": [
    "clf = DecisionTreeClassifier(max_depth=3, random_state=seed)\n",
    "ev.train_model(clf, x_train, y_train, x_val, y_val)"
   ]
  },
  {
   "cell_type": "markdown",
   "id": "e45c4905-bd79-45fb-a987-994d5aa911f6",
   "metadata": {},
   "source": [
    "## Logistic Regression"
   ]
  },
  {
   "cell_type": "code",
   "execution_count": 24,
   "id": "ee4b6ede-8d80-49a1-ab47-9ad4cec27e1e",
   "metadata": {},
   "outputs": [
    {
     "name": "stdout",
     "output_type": "stream",
     "text": [
      "The train RMSE is 0.7830527820868777.\n",
      "The validate RMSE is 0.7974710304425588.\n"
     ]
    },
    {
     "name": "stderr",
     "output_type": "stream",
     "text": [
      "/opt/homebrew/anaconda3/lib/python3.10/site-packages/sklearn/linear_model/_logistic.py:458: ConvergenceWarning: lbfgs failed to converge (status=1):\n",
      "STOP: TOTAL NO. of ITERATIONS REACHED LIMIT.\n",
      "\n",
      "Increase the number of iterations (max_iter) or scale the data as shown in:\n",
      "    https://scikit-learn.org/stable/modules/preprocessing.html\n",
      "Please also refer to the documentation for alternative solver options:\n",
      "    https://scikit-learn.org/stable/modules/linear_model.html#logistic-regression\n",
      "  n_iter_i = _check_optimize_result(\n"
     ]
    }
   ],
   "source": [
    "logreg = LogisticRegression()\n",
    "ev.train_model(logreg, x_train, y_train, x_val, y_val)"
   ]
  },
  {
   "cell_type": "markdown",
   "id": "d02ebbf0-b837-4214-9111-6faf0d2f775c",
   "metadata": {},
   "source": [
    "RESULTS WITH SUGAR: \n",
    "\n",
    "lm = 76, 74\n",
    "xgb = 79, 79\n",
    "random forest regressor = 73, 73\n",
    "KNN = 78.5\n",
    "rf1 = 76\n",
    "decision tree = 80\n",
    "logreg= 79\n",
    "\n",
    "WITHOUT SUGAR\n",
    "\n",
    "lm = 78, 76\n",
    "xgb = 80, 83\n",
    "random forest regressor = 73, 73\n",
    "KNN = 78.5\n",
    "rf1 = 76\n",
    "decision tree = 80\n",
    "logreg= 79\n",
    "\n",
    "Without sugar is slightly worse"
   ]
  },
  {
   "cell_type": "code",
   "execution_count": null,
   "id": "c6cc75ed-20ac-4482-bd66-5d336b5a5205",
   "metadata": {},
   "outputs": [],
   "source": []
  }
 ],
 "metadata": {
  "kernelspec": {
   "display_name": "Python 3 (ipykernel)",
   "language": "python",
   "name": "python3"
  },
  "language_info": {
   "codemirror_mode": {
    "name": "ipython",
    "version": 3
   },
   "file_extension": ".py",
   "mimetype": "text/x-python",
   "name": "python",
   "nbconvert_exporter": "python",
   "pygments_lexer": "ipython3",
   "version": "3.10.9"
  }
 },
 "nbformat": 4,
 "nbformat_minor": 5
}
