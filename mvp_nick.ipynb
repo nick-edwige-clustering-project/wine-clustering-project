{
 "cells": [
  {
   "cell_type": "markdown",
   "id": "52b3f067-d22d-47db-bbcc-c3e173308aa7",
   "metadata": {
    "tags": []
   },
   "source": [
    "# Project MVP"
   ]
  },
  {
   "cell_type": "markdown",
   "id": "1a636e48-a7a2-48da-be91-cf0e5e61f46b",
   "metadata": {},
   "source": [
    "## Imports"
   ]
  },
  {
   "cell_type": "code",
   "execution_count": 1,
   "id": "1d4aaedb-907a-4502-92b8-fece8e93ed5a",
   "metadata": {},
   "outputs": [],
   "source": [
    "import sys\n",
    "\n",
    "sys.path.append('/Users/nickolaspedrimiranda/CodeUp/Regression-Project/')"
   ]
  },
  {
   "cell_type": "code",
   "execution_count": 52,
   "id": "0cec4a84-a11c-49df-8c2a-ac496c407736",
   "metadata": {},
   "outputs": [],
   "source": [
    "# Import basic DS libraries\n",
    "import pandas as pd\n",
    "import numpy as np\n",
    "\n",
    "# Import libraries for visuals\n",
    "import matplotlib.pyplot as plt\n",
    "import seaborn as sns\n",
    "\n",
    "# Import useful DS functions\n",
    "import acquire as ac\n",
    "import prepare as prep\n",
    "import evaluate as ev\n",
    "\n",
    "\n",
    "# For modeling\n",
    "from sklearn.linear_model import LinearRegression, LassoLars, TweedieRegressor\n",
    "from sklearn.preprocessing import PolynomialFeatures\n",
    "\n",
    "from sklearn.ensemble import RandomForestRegressor\n",
    "from xgboost import XGBRegressor\n",
    "\n",
    "from sklearn.neighbors import KNeighborsClassifier"
   ]
  },
  {
   "cell_type": "markdown",
   "id": "cd6d3ce5-e5af-4807-b494-cc9b4ae92cd0",
   "metadata": {},
   "source": [
    "# Acquire"
   ]
  },
  {
   "cell_type": "markdown",
   "id": "5876110e-9407-4f89-8b25-6005b7cdd6b0",
   "metadata": {},
   "source": [
    "CSV files were downloaded straight from the website. No other acquisition required. LINK: https://data.world/food/wine-quality"
   ]
  },
  {
   "cell_type": "code",
   "execution_count": 3,
   "id": "ab0523c3-8997-4762-93a0-19535dab4140",
   "metadata": {},
   "outputs": [],
   "source": [
    "red = pd.read_csv('winequality-red.csv')\n",
    "white = pd.read_csv('winequality-white.csv')"
   ]
  },
  {
   "cell_type": "code",
   "execution_count": 4,
   "id": "5b8e0fc3-0fd3-4df3-8210-9dd9296c8026",
   "metadata": {},
   "outputs": [],
   "source": [
    "# Create label for red wine\n",
    "red['wine_type'] = 'red'"
   ]
  },
  {
   "cell_type": "code",
   "execution_count": 5,
   "id": "4e8cb7df-ea76-4166-aa6c-69e861505cca",
   "metadata": {},
   "outputs": [
    {
     "data": {
      "text/html": [
       "<div>\n",
       "<style scoped>\n",
       "    .dataframe tbody tr th:only-of-type {\n",
       "        vertical-align: middle;\n",
       "    }\n",
       "\n",
       "    .dataframe tbody tr th {\n",
       "        vertical-align: top;\n",
       "    }\n",
       "\n",
       "    .dataframe thead th {\n",
       "        text-align: right;\n",
       "    }\n",
       "</style>\n",
       "<table border=\"1\" class=\"dataframe\">\n",
       "  <thead>\n",
       "    <tr style=\"text-align: right;\">\n",
       "      <th></th>\n",
       "      <th>fixed acidity</th>\n",
       "      <th>volatile acidity</th>\n",
       "      <th>citric acid</th>\n",
       "      <th>residual sugar</th>\n",
       "      <th>chlorides</th>\n",
       "      <th>free sulfur dioxide</th>\n",
       "      <th>total sulfur dioxide</th>\n",
       "      <th>density</th>\n",
       "      <th>pH</th>\n",
       "      <th>sulphates</th>\n",
       "      <th>alcohol</th>\n",
       "      <th>quality</th>\n",
       "      <th>wine_type</th>\n",
       "    </tr>\n",
       "  </thead>\n",
       "  <tbody>\n",
       "    <tr>\n",
       "      <th>0</th>\n",
       "      <td>7.4</td>\n",
       "      <td>0.70</td>\n",
       "      <td>0.00</td>\n",
       "      <td>1.9</td>\n",
       "      <td>0.076</td>\n",
       "      <td>11.0</td>\n",
       "      <td>34.0</td>\n",
       "      <td>0.9978</td>\n",
       "      <td>3.51</td>\n",
       "      <td>0.56</td>\n",
       "      <td>9.4</td>\n",
       "      <td>5</td>\n",
       "      <td>red</td>\n",
       "    </tr>\n",
       "    <tr>\n",
       "      <th>1</th>\n",
       "      <td>7.8</td>\n",
       "      <td>0.88</td>\n",
       "      <td>0.00</td>\n",
       "      <td>2.6</td>\n",
       "      <td>0.098</td>\n",
       "      <td>25.0</td>\n",
       "      <td>67.0</td>\n",
       "      <td>0.9968</td>\n",
       "      <td>3.20</td>\n",
       "      <td>0.68</td>\n",
       "      <td>9.8</td>\n",
       "      <td>5</td>\n",
       "      <td>red</td>\n",
       "    </tr>\n",
       "    <tr>\n",
       "      <th>2</th>\n",
       "      <td>7.8</td>\n",
       "      <td>0.76</td>\n",
       "      <td>0.04</td>\n",
       "      <td>2.3</td>\n",
       "      <td>0.092</td>\n",
       "      <td>15.0</td>\n",
       "      <td>54.0</td>\n",
       "      <td>0.9970</td>\n",
       "      <td>3.26</td>\n",
       "      <td>0.65</td>\n",
       "      <td>9.8</td>\n",
       "      <td>5</td>\n",
       "      <td>red</td>\n",
       "    </tr>\n",
       "    <tr>\n",
       "      <th>3</th>\n",
       "      <td>11.2</td>\n",
       "      <td>0.28</td>\n",
       "      <td>0.56</td>\n",
       "      <td>1.9</td>\n",
       "      <td>0.075</td>\n",
       "      <td>17.0</td>\n",
       "      <td>60.0</td>\n",
       "      <td>0.9980</td>\n",
       "      <td>3.16</td>\n",
       "      <td>0.58</td>\n",
       "      <td>9.8</td>\n",
       "      <td>6</td>\n",
       "      <td>red</td>\n",
       "    </tr>\n",
       "    <tr>\n",
       "      <th>4</th>\n",
       "      <td>7.4</td>\n",
       "      <td>0.70</td>\n",
       "      <td>0.00</td>\n",
       "      <td>1.9</td>\n",
       "      <td>0.076</td>\n",
       "      <td>11.0</td>\n",
       "      <td>34.0</td>\n",
       "      <td>0.9978</td>\n",
       "      <td>3.51</td>\n",
       "      <td>0.56</td>\n",
       "      <td>9.4</td>\n",
       "      <td>5</td>\n",
       "      <td>red</td>\n",
       "    </tr>\n",
       "  </tbody>\n",
       "</table>\n",
       "</div>"
      ],
      "text/plain": [
       "   fixed acidity  volatile acidity  citric acid  residual sugar  chlorides  \\\n",
       "0            7.4              0.70         0.00             1.9      0.076   \n",
       "1            7.8              0.88         0.00             2.6      0.098   \n",
       "2            7.8              0.76         0.04             2.3      0.092   \n",
       "3           11.2              0.28         0.56             1.9      0.075   \n",
       "4            7.4              0.70         0.00             1.9      0.076   \n",
       "\n",
       "   free sulfur dioxide  total sulfur dioxide  density    pH  sulphates  \\\n",
       "0                 11.0                  34.0   0.9978  3.51       0.56   \n",
       "1                 25.0                  67.0   0.9968  3.20       0.68   \n",
       "2                 15.0                  54.0   0.9970  3.26       0.65   \n",
       "3                 17.0                  60.0   0.9980  3.16       0.58   \n",
       "4                 11.0                  34.0   0.9978  3.51       0.56   \n",
       "\n",
       "   alcohol  quality wine_type  \n",
       "0      9.4        5       red  \n",
       "1      9.8        5       red  \n",
       "2      9.8        5       red  \n",
       "3      9.8        6       red  \n",
       "4      9.4        5       red  "
      ]
     },
     "execution_count": 5,
     "metadata": {},
     "output_type": "execute_result"
    }
   ],
   "source": [
    "red.head()"
   ]
  },
  {
   "cell_type": "code",
   "execution_count": 6,
   "id": "a978f9ce-0ee9-4c19-a33e-91545cb819fc",
   "metadata": {},
   "outputs": [],
   "source": [
    "# Create label for white wine\n",
    "white['wine_type'] = 'white'"
   ]
  },
  {
   "cell_type": "code",
   "execution_count": 7,
   "id": "00e9c9ed-d29b-4041-93ff-371e488f4de0",
   "metadata": {},
   "outputs": [
    {
     "data": {
      "text/html": [
       "<div>\n",
       "<style scoped>\n",
       "    .dataframe tbody tr th:only-of-type {\n",
       "        vertical-align: middle;\n",
       "    }\n",
       "\n",
       "    .dataframe tbody tr th {\n",
       "        vertical-align: top;\n",
       "    }\n",
       "\n",
       "    .dataframe thead th {\n",
       "        text-align: right;\n",
       "    }\n",
       "</style>\n",
       "<table border=\"1\" class=\"dataframe\">\n",
       "  <thead>\n",
       "    <tr style=\"text-align: right;\">\n",
       "      <th></th>\n",
       "      <th>fixed acidity</th>\n",
       "      <th>volatile acidity</th>\n",
       "      <th>citric acid</th>\n",
       "      <th>residual sugar</th>\n",
       "      <th>chlorides</th>\n",
       "      <th>free sulfur dioxide</th>\n",
       "      <th>total sulfur dioxide</th>\n",
       "      <th>density</th>\n",
       "      <th>pH</th>\n",
       "      <th>sulphates</th>\n",
       "      <th>alcohol</th>\n",
       "      <th>quality</th>\n",
       "      <th>wine_type</th>\n",
       "    </tr>\n",
       "  </thead>\n",
       "  <tbody>\n",
       "    <tr>\n",
       "      <th>0</th>\n",
       "      <td>7.0</td>\n",
       "      <td>0.27</td>\n",
       "      <td>0.36</td>\n",
       "      <td>20.7</td>\n",
       "      <td>0.045</td>\n",
       "      <td>45.0</td>\n",
       "      <td>170.0</td>\n",
       "      <td>1.0010</td>\n",
       "      <td>3.00</td>\n",
       "      <td>0.45</td>\n",
       "      <td>8.8</td>\n",
       "      <td>6</td>\n",
       "      <td>white</td>\n",
       "    </tr>\n",
       "    <tr>\n",
       "      <th>1</th>\n",
       "      <td>6.3</td>\n",
       "      <td>0.30</td>\n",
       "      <td>0.34</td>\n",
       "      <td>1.6</td>\n",
       "      <td>0.049</td>\n",
       "      <td>14.0</td>\n",
       "      <td>132.0</td>\n",
       "      <td>0.9940</td>\n",
       "      <td>3.30</td>\n",
       "      <td>0.49</td>\n",
       "      <td>9.5</td>\n",
       "      <td>6</td>\n",
       "      <td>white</td>\n",
       "    </tr>\n",
       "    <tr>\n",
       "      <th>2</th>\n",
       "      <td>8.1</td>\n",
       "      <td>0.28</td>\n",
       "      <td>0.40</td>\n",
       "      <td>6.9</td>\n",
       "      <td>0.050</td>\n",
       "      <td>30.0</td>\n",
       "      <td>97.0</td>\n",
       "      <td>0.9951</td>\n",
       "      <td>3.26</td>\n",
       "      <td>0.44</td>\n",
       "      <td>10.1</td>\n",
       "      <td>6</td>\n",
       "      <td>white</td>\n",
       "    </tr>\n",
       "    <tr>\n",
       "      <th>3</th>\n",
       "      <td>7.2</td>\n",
       "      <td>0.23</td>\n",
       "      <td>0.32</td>\n",
       "      <td>8.5</td>\n",
       "      <td>0.058</td>\n",
       "      <td>47.0</td>\n",
       "      <td>186.0</td>\n",
       "      <td>0.9956</td>\n",
       "      <td>3.19</td>\n",
       "      <td>0.40</td>\n",
       "      <td>9.9</td>\n",
       "      <td>6</td>\n",
       "      <td>white</td>\n",
       "    </tr>\n",
       "    <tr>\n",
       "      <th>4</th>\n",
       "      <td>7.2</td>\n",
       "      <td>0.23</td>\n",
       "      <td>0.32</td>\n",
       "      <td>8.5</td>\n",
       "      <td>0.058</td>\n",
       "      <td>47.0</td>\n",
       "      <td>186.0</td>\n",
       "      <td>0.9956</td>\n",
       "      <td>3.19</td>\n",
       "      <td>0.40</td>\n",
       "      <td>9.9</td>\n",
       "      <td>6</td>\n",
       "      <td>white</td>\n",
       "    </tr>\n",
       "  </tbody>\n",
       "</table>\n",
       "</div>"
      ],
      "text/plain": [
       "   fixed acidity  volatile acidity  citric acid  residual sugar  chlorides  \\\n",
       "0            7.0              0.27         0.36            20.7      0.045   \n",
       "1            6.3              0.30         0.34             1.6      0.049   \n",
       "2            8.1              0.28         0.40             6.9      0.050   \n",
       "3            7.2              0.23         0.32             8.5      0.058   \n",
       "4            7.2              0.23         0.32             8.5      0.058   \n",
       "\n",
       "   free sulfur dioxide  total sulfur dioxide  density    pH  sulphates  \\\n",
       "0                 45.0                 170.0   1.0010  3.00       0.45   \n",
       "1                 14.0                 132.0   0.9940  3.30       0.49   \n",
       "2                 30.0                  97.0   0.9951  3.26       0.44   \n",
       "3                 47.0                 186.0   0.9956  3.19       0.40   \n",
       "4                 47.0                 186.0   0.9956  3.19       0.40   \n",
       "\n",
       "   alcohol  quality wine_type  \n",
       "0      8.8        6     white  \n",
       "1      9.5        6     white  \n",
       "2     10.1        6     white  \n",
       "3      9.9        6     white  \n",
       "4      9.9        6     white  "
      ]
     },
     "execution_count": 7,
     "metadata": {},
     "output_type": "execute_result"
    }
   ],
   "source": [
    "white.head()"
   ]
  },
  {
   "cell_type": "code",
   "execution_count": 8,
   "id": "74f22659-ea2e-4923-979c-a632fc4b3f82",
   "metadata": {},
   "outputs": [],
   "source": [
    "# Join tables\n",
    "wines = pd.concat([red,white])"
   ]
  },
  {
   "cell_type": "code",
   "execution_count": 9,
   "id": "5cd3dadb-95de-4707-94cc-51826ce79955",
   "metadata": {},
   "outputs": [
    {
     "data": {
      "text/html": [
       "<div>\n",
       "<style scoped>\n",
       "    .dataframe tbody tr th:only-of-type {\n",
       "        vertical-align: middle;\n",
       "    }\n",
       "\n",
       "    .dataframe tbody tr th {\n",
       "        vertical-align: top;\n",
       "    }\n",
       "\n",
       "    .dataframe thead th {\n",
       "        text-align: right;\n",
       "    }\n",
       "</style>\n",
       "<table border=\"1\" class=\"dataframe\">\n",
       "  <thead>\n",
       "    <tr style=\"text-align: right;\">\n",
       "      <th></th>\n",
       "      <th>fixed acidity</th>\n",
       "      <th>volatile acidity</th>\n",
       "      <th>citric acid</th>\n",
       "      <th>residual sugar</th>\n",
       "      <th>chlorides</th>\n",
       "      <th>free sulfur dioxide</th>\n",
       "      <th>total sulfur dioxide</th>\n",
       "      <th>density</th>\n",
       "      <th>pH</th>\n",
       "      <th>sulphates</th>\n",
       "      <th>alcohol</th>\n",
       "      <th>quality</th>\n",
       "      <th>wine_type</th>\n",
       "    </tr>\n",
       "  </thead>\n",
       "  <tbody>\n",
       "    <tr>\n",
       "      <th>0</th>\n",
       "      <td>7.4</td>\n",
       "      <td>0.70</td>\n",
       "      <td>0.00</td>\n",
       "      <td>1.9</td>\n",
       "      <td>0.076</td>\n",
       "      <td>11.0</td>\n",
       "      <td>34.0</td>\n",
       "      <td>0.9978</td>\n",
       "      <td>3.51</td>\n",
       "      <td>0.56</td>\n",
       "      <td>9.4</td>\n",
       "      <td>5</td>\n",
       "      <td>red</td>\n",
       "    </tr>\n",
       "    <tr>\n",
       "      <th>1</th>\n",
       "      <td>7.8</td>\n",
       "      <td>0.88</td>\n",
       "      <td>0.00</td>\n",
       "      <td>2.6</td>\n",
       "      <td>0.098</td>\n",
       "      <td>25.0</td>\n",
       "      <td>67.0</td>\n",
       "      <td>0.9968</td>\n",
       "      <td>3.20</td>\n",
       "      <td>0.68</td>\n",
       "      <td>9.8</td>\n",
       "      <td>5</td>\n",
       "      <td>red</td>\n",
       "    </tr>\n",
       "    <tr>\n",
       "      <th>2</th>\n",
       "      <td>7.8</td>\n",
       "      <td>0.76</td>\n",
       "      <td>0.04</td>\n",
       "      <td>2.3</td>\n",
       "      <td>0.092</td>\n",
       "      <td>15.0</td>\n",
       "      <td>54.0</td>\n",
       "      <td>0.9970</td>\n",
       "      <td>3.26</td>\n",
       "      <td>0.65</td>\n",
       "      <td>9.8</td>\n",
       "      <td>5</td>\n",
       "      <td>red</td>\n",
       "    </tr>\n",
       "    <tr>\n",
       "      <th>3</th>\n",
       "      <td>11.2</td>\n",
       "      <td>0.28</td>\n",
       "      <td>0.56</td>\n",
       "      <td>1.9</td>\n",
       "      <td>0.075</td>\n",
       "      <td>17.0</td>\n",
       "      <td>60.0</td>\n",
       "      <td>0.9980</td>\n",
       "      <td>3.16</td>\n",
       "      <td>0.58</td>\n",
       "      <td>9.8</td>\n",
       "      <td>6</td>\n",
       "      <td>red</td>\n",
       "    </tr>\n",
       "    <tr>\n",
       "      <th>4</th>\n",
       "      <td>7.4</td>\n",
       "      <td>0.70</td>\n",
       "      <td>0.00</td>\n",
       "      <td>1.9</td>\n",
       "      <td>0.076</td>\n",
       "      <td>11.0</td>\n",
       "      <td>34.0</td>\n",
       "      <td>0.9978</td>\n",
       "      <td>3.51</td>\n",
       "      <td>0.56</td>\n",
       "      <td>9.4</td>\n",
       "      <td>5</td>\n",
       "      <td>red</td>\n",
       "    </tr>\n",
       "  </tbody>\n",
       "</table>\n",
       "</div>"
      ],
      "text/plain": [
       "   fixed acidity  volatile acidity  citric acid  residual sugar  chlorides  \\\n",
       "0            7.4              0.70         0.00             1.9      0.076   \n",
       "1            7.8              0.88         0.00             2.6      0.098   \n",
       "2            7.8              0.76         0.04             2.3      0.092   \n",
       "3           11.2              0.28         0.56             1.9      0.075   \n",
       "4            7.4              0.70         0.00             1.9      0.076   \n",
       "\n",
       "   free sulfur dioxide  total sulfur dioxide  density    pH  sulphates  \\\n",
       "0                 11.0                  34.0   0.9978  3.51       0.56   \n",
       "1                 25.0                  67.0   0.9968  3.20       0.68   \n",
       "2                 15.0                  54.0   0.9970  3.26       0.65   \n",
       "3                 17.0                  60.0   0.9980  3.16       0.58   \n",
       "4                 11.0                  34.0   0.9978  3.51       0.56   \n",
       "\n",
       "   alcohol  quality wine_type  \n",
       "0      9.4        5       red  \n",
       "1      9.8        5       red  \n",
       "2      9.8        5       red  \n",
       "3      9.8        6       red  \n",
       "4      9.4        5       red  "
      ]
     },
     "execution_count": 9,
     "metadata": {},
     "output_type": "execute_result"
    }
   ],
   "source": [
    "wines.head()"
   ]
  },
  {
   "cell_type": "code",
   "execution_count": 10,
   "id": "60a193d3-906f-4163-94fe-b413319358a7",
   "metadata": {},
   "outputs": [],
   "source": [
    "# Re-index tables\n",
    "wines = wines.reset_index().drop(columns='index')"
   ]
  },
  {
   "cell_type": "code",
   "execution_count": 11,
   "id": "9c84265d-244a-4b14-bbd8-382eda81655e",
   "metadata": {},
   "outputs": [
    {
     "data": {
      "text/html": [
       "<div>\n",
       "<style scoped>\n",
       "    .dataframe tbody tr th:only-of-type {\n",
       "        vertical-align: middle;\n",
       "    }\n",
       "\n",
       "    .dataframe tbody tr th {\n",
       "        vertical-align: top;\n",
       "    }\n",
       "\n",
       "    .dataframe thead th {\n",
       "        text-align: right;\n",
       "    }\n",
       "</style>\n",
       "<table border=\"1\" class=\"dataframe\">\n",
       "  <thead>\n",
       "    <tr style=\"text-align: right;\">\n",
       "      <th></th>\n",
       "      <th>fixed acidity</th>\n",
       "      <th>volatile acidity</th>\n",
       "      <th>citric acid</th>\n",
       "      <th>residual sugar</th>\n",
       "      <th>chlorides</th>\n",
       "      <th>free sulfur dioxide</th>\n",
       "      <th>total sulfur dioxide</th>\n",
       "      <th>density</th>\n",
       "      <th>pH</th>\n",
       "      <th>sulphates</th>\n",
       "      <th>alcohol</th>\n",
       "      <th>quality</th>\n",
       "      <th>wine_type</th>\n",
       "    </tr>\n",
       "  </thead>\n",
       "  <tbody>\n",
       "    <tr>\n",
       "      <th>0</th>\n",
       "      <td>7.4</td>\n",
       "      <td>0.70</td>\n",
       "      <td>0.00</td>\n",
       "      <td>1.9</td>\n",
       "      <td>0.076</td>\n",
       "      <td>11.0</td>\n",
       "      <td>34.0</td>\n",
       "      <td>0.99780</td>\n",
       "      <td>3.51</td>\n",
       "      <td>0.56</td>\n",
       "      <td>9.4</td>\n",
       "      <td>5</td>\n",
       "      <td>red</td>\n",
       "    </tr>\n",
       "    <tr>\n",
       "      <th>1</th>\n",
       "      <td>7.8</td>\n",
       "      <td>0.88</td>\n",
       "      <td>0.00</td>\n",
       "      <td>2.6</td>\n",
       "      <td>0.098</td>\n",
       "      <td>25.0</td>\n",
       "      <td>67.0</td>\n",
       "      <td>0.99680</td>\n",
       "      <td>3.20</td>\n",
       "      <td>0.68</td>\n",
       "      <td>9.8</td>\n",
       "      <td>5</td>\n",
       "      <td>red</td>\n",
       "    </tr>\n",
       "    <tr>\n",
       "      <th>2</th>\n",
       "      <td>7.8</td>\n",
       "      <td>0.76</td>\n",
       "      <td>0.04</td>\n",
       "      <td>2.3</td>\n",
       "      <td>0.092</td>\n",
       "      <td>15.0</td>\n",
       "      <td>54.0</td>\n",
       "      <td>0.99700</td>\n",
       "      <td>3.26</td>\n",
       "      <td>0.65</td>\n",
       "      <td>9.8</td>\n",
       "      <td>5</td>\n",
       "      <td>red</td>\n",
       "    </tr>\n",
       "    <tr>\n",
       "      <th>3</th>\n",
       "      <td>11.2</td>\n",
       "      <td>0.28</td>\n",
       "      <td>0.56</td>\n",
       "      <td>1.9</td>\n",
       "      <td>0.075</td>\n",
       "      <td>17.0</td>\n",
       "      <td>60.0</td>\n",
       "      <td>0.99800</td>\n",
       "      <td>3.16</td>\n",
       "      <td>0.58</td>\n",
       "      <td>9.8</td>\n",
       "      <td>6</td>\n",
       "      <td>red</td>\n",
       "    </tr>\n",
       "    <tr>\n",
       "      <th>4</th>\n",
       "      <td>7.4</td>\n",
       "      <td>0.70</td>\n",
       "      <td>0.00</td>\n",
       "      <td>1.9</td>\n",
       "      <td>0.076</td>\n",
       "      <td>11.0</td>\n",
       "      <td>34.0</td>\n",
       "      <td>0.99780</td>\n",
       "      <td>3.51</td>\n",
       "      <td>0.56</td>\n",
       "      <td>9.4</td>\n",
       "      <td>5</td>\n",
       "      <td>red</td>\n",
       "    </tr>\n",
       "    <tr>\n",
       "      <th>...</th>\n",
       "      <td>...</td>\n",
       "      <td>...</td>\n",
       "      <td>...</td>\n",
       "      <td>...</td>\n",
       "      <td>...</td>\n",
       "      <td>...</td>\n",
       "      <td>...</td>\n",
       "      <td>...</td>\n",
       "      <td>...</td>\n",
       "      <td>...</td>\n",
       "      <td>...</td>\n",
       "      <td>...</td>\n",
       "      <td>...</td>\n",
       "    </tr>\n",
       "    <tr>\n",
       "      <th>6492</th>\n",
       "      <td>6.2</td>\n",
       "      <td>0.21</td>\n",
       "      <td>0.29</td>\n",
       "      <td>1.6</td>\n",
       "      <td>0.039</td>\n",
       "      <td>24.0</td>\n",
       "      <td>92.0</td>\n",
       "      <td>0.99114</td>\n",
       "      <td>3.27</td>\n",
       "      <td>0.50</td>\n",
       "      <td>11.2</td>\n",
       "      <td>6</td>\n",
       "      <td>white</td>\n",
       "    </tr>\n",
       "    <tr>\n",
       "      <th>6493</th>\n",
       "      <td>6.6</td>\n",
       "      <td>0.32</td>\n",
       "      <td>0.36</td>\n",
       "      <td>8.0</td>\n",
       "      <td>0.047</td>\n",
       "      <td>57.0</td>\n",
       "      <td>168.0</td>\n",
       "      <td>0.99490</td>\n",
       "      <td>3.15</td>\n",
       "      <td>0.46</td>\n",
       "      <td>9.6</td>\n",
       "      <td>5</td>\n",
       "      <td>white</td>\n",
       "    </tr>\n",
       "    <tr>\n",
       "      <th>6494</th>\n",
       "      <td>6.5</td>\n",
       "      <td>0.24</td>\n",
       "      <td>0.19</td>\n",
       "      <td>1.2</td>\n",
       "      <td>0.041</td>\n",
       "      <td>30.0</td>\n",
       "      <td>111.0</td>\n",
       "      <td>0.99254</td>\n",
       "      <td>2.99</td>\n",
       "      <td>0.46</td>\n",
       "      <td>9.4</td>\n",
       "      <td>6</td>\n",
       "      <td>white</td>\n",
       "    </tr>\n",
       "    <tr>\n",
       "      <th>6495</th>\n",
       "      <td>5.5</td>\n",
       "      <td>0.29</td>\n",
       "      <td>0.30</td>\n",
       "      <td>1.1</td>\n",
       "      <td>0.022</td>\n",
       "      <td>20.0</td>\n",
       "      <td>110.0</td>\n",
       "      <td>0.98869</td>\n",
       "      <td>3.34</td>\n",
       "      <td>0.38</td>\n",
       "      <td>12.8</td>\n",
       "      <td>7</td>\n",
       "      <td>white</td>\n",
       "    </tr>\n",
       "    <tr>\n",
       "      <th>6496</th>\n",
       "      <td>6.0</td>\n",
       "      <td>0.21</td>\n",
       "      <td>0.38</td>\n",
       "      <td>0.8</td>\n",
       "      <td>0.020</td>\n",
       "      <td>22.0</td>\n",
       "      <td>98.0</td>\n",
       "      <td>0.98941</td>\n",
       "      <td>3.26</td>\n",
       "      <td>0.32</td>\n",
       "      <td>11.8</td>\n",
       "      <td>6</td>\n",
       "      <td>white</td>\n",
       "    </tr>\n",
       "  </tbody>\n",
       "</table>\n",
       "<p>6497 rows × 13 columns</p>\n",
       "</div>"
      ],
      "text/plain": [
       "      fixed acidity  volatile acidity  citric acid  residual sugar  chlorides  \\\n",
       "0               7.4              0.70         0.00             1.9      0.076   \n",
       "1               7.8              0.88         0.00             2.6      0.098   \n",
       "2               7.8              0.76         0.04             2.3      0.092   \n",
       "3              11.2              0.28         0.56             1.9      0.075   \n",
       "4               7.4              0.70         0.00             1.9      0.076   \n",
       "...             ...               ...          ...             ...        ...   \n",
       "6492            6.2              0.21         0.29             1.6      0.039   \n",
       "6493            6.6              0.32         0.36             8.0      0.047   \n",
       "6494            6.5              0.24         0.19             1.2      0.041   \n",
       "6495            5.5              0.29         0.30             1.1      0.022   \n",
       "6496            6.0              0.21         0.38             0.8      0.020   \n",
       "\n",
       "      free sulfur dioxide  total sulfur dioxide  density    pH  sulphates  \\\n",
       "0                    11.0                  34.0  0.99780  3.51       0.56   \n",
       "1                    25.0                  67.0  0.99680  3.20       0.68   \n",
       "2                    15.0                  54.0  0.99700  3.26       0.65   \n",
       "3                    17.0                  60.0  0.99800  3.16       0.58   \n",
       "4                    11.0                  34.0  0.99780  3.51       0.56   \n",
       "...                   ...                   ...      ...   ...        ...   \n",
       "6492                 24.0                  92.0  0.99114  3.27       0.50   \n",
       "6493                 57.0                 168.0  0.99490  3.15       0.46   \n",
       "6494                 30.0                 111.0  0.99254  2.99       0.46   \n",
       "6495                 20.0                 110.0  0.98869  3.34       0.38   \n",
       "6496                 22.0                  98.0  0.98941  3.26       0.32   \n",
       "\n",
       "      alcohol  quality wine_type  \n",
       "0         9.4        5       red  \n",
       "1         9.8        5       red  \n",
       "2         9.8        5       red  \n",
       "3         9.8        6       red  \n",
       "4         9.4        5       red  \n",
       "...       ...      ...       ...  \n",
       "6492     11.2        6     white  \n",
       "6493      9.6        5     white  \n",
       "6494      9.4        6     white  \n",
       "6495     12.8        7     white  \n",
       "6496     11.8        6     white  \n",
       "\n",
       "[6497 rows x 13 columns]"
      ]
     },
     "execution_count": 11,
     "metadata": {},
     "output_type": "execute_result"
    }
   ],
   "source": [
    "wines"
   ]
  },
  {
   "cell_type": "code",
   "execution_count": 12,
   "id": "a216ebbd-91a1-43c9-8322-9e89b6073fe8",
   "metadata": {},
   "outputs": [],
   "source": [
    "# Save final product to .csv\n",
    "wines.to_csv('wines.csv', index=False)"
   ]
  },
  {
   "cell_type": "code",
   "execution_count": 13,
   "id": "a7464fc4-8ee1-485b-9d9c-fd774a148cf5",
   "metadata": {},
   "outputs": [],
   "source": [
    "# Create function to acquire wines tables\n",
    "def get_wine():\n",
    "    return pd.read_csv('wines.csv')"
   ]
  },
  {
   "cell_type": "markdown",
   "id": "45784d69-baf6-496c-811c-f7962245402d",
   "metadata": {},
   "source": [
    "# Prepare"
   ]
  },
  {
   "cell_type": "code",
   "execution_count": 14,
   "id": "c9ccafda-a866-4fd5-89d5-e962ad57158e",
   "metadata": {},
   "outputs": [],
   "source": [
    "seed = 100"
   ]
  },
  {
   "cell_type": "code",
   "execution_count": 15,
   "id": "55418a97-bb4b-45bb-9856-8cfe9e2f490c",
   "metadata": {},
   "outputs": [],
   "source": [
    "wine = get_wine() # acquire data"
   ]
  },
  {
   "cell_type": "code",
   "execution_count": 16,
   "id": "e19204a7-99d1-4c92-9467-2efce62c3296",
   "metadata": {},
   "outputs": [],
   "source": [
    "wine, val, test = prep.train_val_test(wine, strat='quality', seed=seed)"
   ]
  },
  {
   "cell_type": "code",
   "execution_count": 17,
   "id": "b1b8e0bb-25b2-4a31-8f1b-1fca9845714c",
   "metadata": {},
   "outputs": [
    {
     "data": {
      "text/html": [
       "<div>\n",
       "<style scoped>\n",
       "    .dataframe tbody tr th:only-of-type {\n",
       "        vertical-align: middle;\n",
       "    }\n",
       "\n",
       "    .dataframe tbody tr th {\n",
       "        vertical-align: top;\n",
       "    }\n",
       "\n",
       "    .dataframe thead th {\n",
       "        text-align: right;\n",
       "    }\n",
       "</style>\n",
       "<table border=\"1\" class=\"dataframe\">\n",
       "  <thead>\n",
       "    <tr style=\"text-align: right;\">\n",
       "      <th></th>\n",
       "      <th>fixed acidity</th>\n",
       "      <th>volatile acidity</th>\n",
       "      <th>citric acid</th>\n",
       "      <th>residual sugar</th>\n",
       "      <th>chlorides</th>\n",
       "      <th>free sulfur dioxide</th>\n",
       "      <th>total sulfur dioxide</th>\n",
       "      <th>density</th>\n",
       "      <th>pH</th>\n",
       "      <th>sulphates</th>\n",
       "      <th>alcohol</th>\n",
       "      <th>quality</th>\n",
       "      <th>wine_type</th>\n",
       "    </tr>\n",
       "  </thead>\n",
       "  <tbody>\n",
       "    <tr>\n",
       "      <th>5397</th>\n",
       "      <td>7.9</td>\n",
       "      <td>0.21</td>\n",
       "      <td>0.39</td>\n",
       "      <td>2.0</td>\n",
       "      <td>0.057</td>\n",
       "      <td>21.0</td>\n",
       "      <td>138.0</td>\n",
       "      <td>0.99176</td>\n",
       "      <td>3.05</td>\n",
       "      <td>0.52</td>\n",
       "      <td>10.9</td>\n",
       "      <td>5</td>\n",
       "      <td>white</td>\n",
       "    </tr>\n",
       "    <tr>\n",
       "      <th>5111</th>\n",
       "      <td>6.3</td>\n",
       "      <td>0.21</td>\n",
       "      <td>0.31</td>\n",
       "      <td>1.2</td>\n",
       "      <td>0.043</td>\n",
       "      <td>30.0</td>\n",
       "      <td>117.0</td>\n",
       "      <td>0.99158</td>\n",
       "      <td>3.49</td>\n",
       "      <td>0.68</td>\n",
       "      <td>11.0</td>\n",
       "      <td>6</td>\n",
       "      <td>white</td>\n",
       "    </tr>\n",
       "    <tr>\n",
       "      <th>3519</th>\n",
       "      <td>8.1</td>\n",
       "      <td>0.26</td>\n",
       "      <td>0.33</td>\n",
       "      <td>11.1</td>\n",
       "      <td>0.052</td>\n",
       "      <td>52.5</td>\n",
       "      <td>158.0</td>\n",
       "      <td>0.99760</td>\n",
       "      <td>3.03</td>\n",
       "      <td>0.49</td>\n",
       "      <td>10.2</td>\n",
       "      <td>7</td>\n",
       "      <td>white</td>\n",
       "    </tr>\n",
       "    <tr>\n",
       "      <th>6105</th>\n",
       "      <td>6.6</td>\n",
       "      <td>0.19</td>\n",
       "      <td>0.28</td>\n",
       "      <td>1.1</td>\n",
       "      <td>0.044</td>\n",
       "      <td>38.0</td>\n",
       "      <td>100.0</td>\n",
       "      <td>0.99040</td>\n",
       "      <td>3.22</td>\n",
       "      <td>0.69</td>\n",
       "      <td>11.2</td>\n",
       "      <td>6</td>\n",
       "      <td>white</td>\n",
       "    </tr>\n",
       "    <tr>\n",
       "      <th>2115</th>\n",
       "      <td>6.8</td>\n",
       "      <td>0.18</td>\n",
       "      <td>0.37</td>\n",
       "      <td>1.6</td>\n",
       "      <td>0.055</td>\n",
       "      <td>47.0</td>\n",
       "      <td>154.0</td>\n",
       "      <td>0.99340</td>\n",
       "      <td>3.08</td>\n",
       "      <td>0.45</td>\n",
       "      <td>9.1</td>\n",
       "      <td>5</td>\n",
       "      <td>white</td>\n",
       "    </tr>\n",
       "  </tbody>\n",
       "</table>\n",
       "</div>"
      ],
      "text/plain": [
       "      fixed acidity  volatile acidity  citric acid  residual sugar  chlorides  \\\n",
       "5397            7.9              0.21         0.39             2.0      0.057   \n",
       "5111            6.3              0.21         0.31             1.2      0.043   \n",
       "3519            8.1              0.26         0.33            11.1      0.052   \n",
       "6105            6.6              0.19         0.28             1.1      0.044   \n",
       "2115            6.8              0.18         0.37             1.6      0.055   \n",
       "\n",
       "      free sulfur dioxide  total sulfur dioxide  density    pH  sulphates  \\\n",
       "5397                 21.0                 138.0  0.99176  3.05       0.52   \n",
       "5111                 30.0                 117.0  0.99158  3.49       0.68   \n",
       "3519                 52.5                 158.0  0.99760  3.03       0.49   \n",
       "6105                 38.0                 100.0  0.99040  3.22       0.69   \n",
       "2115                 47.0                 154.0  0.99340  3.08       0.45   \n",
       "\n",
       "      alcohol  quality wine_type  \n",
       "5397     10.9        5     white  \n",
       "5111     11.0        6     white  \n",
       "3519     10.2        7     white  \n",
       "6105     11.2        6     white  \n",
       "2115      9.1        5     white  "
      ]
     },
     "execution_count": 17,
     "metadata": {},
     "output_type": "execute_result"
    }
   ],
   "source": [
    "wine.head()"
   ]
  },
  {
   "cell_type": "markdown",
   "id": "5433078a-af9f-429e-8527-8d2379e2a344",
   "metadata": {},
   "source": [
    "Data is already clean enough for mvp. No preparation needed for inital pass of project"
   ]
  },
  {
   "cell_type": "markdown",
   "id": "14a7fd09-abd2-4849-a72b-ebf860978554",
   "metadata": {
    "jp-MarkdownHeadingCollapsed": true,
    "tags": []
   },
   "source": [
    "# Explore"
   ]
  },
  {
   "cell_type": "code",
   "execution_count": 18,
   "id": "82385131-5310-44d4-b3ac-31c7d529835e",
   "metadata": {},
   "outputs": [
    {
     "data": {
      "text/html": [
       "<div>\n",
       "<style scoped>\n",
       "    .dataframe tbody tr th:only-of-type {\n",
       "        vertical-align: middle;\n",
       "    }\n",
       "\n",
       "    .dataframe tbody tr th {\n",
       "        vertical-align: top;\n",
       "    }\n",
       "\n",
       "    .dataframe thead th {\n",
       "        text-align: right;\n",
       "    }\n",
       "</style>\n",
       "<table border=\"1\" class=\"dataframe\">\n",
       "  <thead>\n",
       "    <tr style=\"text-align: right;\">\n",
       "      <th></th>\n",
       "      <th>fixed acidity</th>\n",
       "      <th>volatile acidity</th>\n",
       "      <th>citric acid</th>\n",
       "      <th>residual sugar</th>\n",
       "      <th>chlorides</th>\n",
       "      <th>free sulfur dioxide</th>\n",
       "      <th>total sulfur dioxide</th>\n",
       "      <th>density</th>\n",
       "      <th>pH</th>\n",
       "      <th>sulphates</th>\n",
       "      <th>alcohol</th>\n",
       "      <th>quality</th>\n",
       "    </tr>\n",
       "  </thead>\n",
       "  <tbody>\n",
       "    <tr>\n",
       "      <th>count</th>\n",
       "      <td>4547.000000</td>\n",
       "      <td>4547.000000</td>\n",
       "      <td>4547.000000</td>\n",
       "      <td>4547.000000</td>\n",
       "      <td>4547.000000</td>\n",
       "      <td>4547.000000</td>\n",
       "      <td>4547.000000</td>\n",
       "      <td>4547.000000</td>\n",
       "      <td>4547.000000</td>\n",
       "      <td>4547.000000</td>\n",
       "      <td>4547.000000</td>\n",
       "      <td>4547.000000</td>\n",
       "    </tr>\n",
       "    <tr>\n",
       "      <th>mean</th>\n",
       "      <td>7.204948</td>\n",
       "      <td>0.340979</td>\n",
       "      <td>0.316815</td>\n",
       "      <td>5.473400</td>\n",
       "      <td>0.056262</td>\n",
       "      <td>30.433693</td>\n",
       "      <td>116.022652</td>\n",
       "      <td>0.994693</td>\n",
       "      <td>3.217675</td>\n",
       "      <td>0.530501</td>\n",
       "      <td>10.493276</td>\n",
       "      <td>5.823840</td>\n",
       "    </tr>\n",
       "    <tr>\n",
       "      <th>std</th>\n",
       "      <td>1.285119</td>\n",
       "      <td>0.165459</td>\n",
       "      <td>0.144355</td>\n",
       "      <td>4.796098</td>\n",
       "      <td>0.036155</td>\n",
       "      <td>17.776858</td>\n",
       "      <td>56.870340</td>\n",
       "      <td>0.003012</td>\n",
       "      <td>0.161511</td>\n",
       "      <td>0.147374</td>\n",
       "      <td>1.200601</td>\n",
       "      <td>0.879434</td>\n",
       "    </tr>\n",
       "    <tr>\n",
       "      <th>min</th>\n",
       "      <td>3.800000</td>\n",
       "      <td>0.080000</td>\n",
       "      <td>0.000000</td>\n",
       "      <td>0.600000</td>\n",
       "      <td>0.012000</td>\n",
       "      <td>1.000000</td>\n",
       "      <td>6.000000</td>\n",
       "      <td>0.987110</td>\n",
       "      <td>2.720000</td>\n",
       "      <td>0.220000</td>\n",
       "      <td>8.000000</td>\n",
       "      <td>3.000000</td>\n",
       "    </tr>\n",
       "    <tr>\n",
       "      <th>25%</th>\n",
       "      <td>6.400000</td>\n",
       "      <td>0.230000</td>\n",
       "      <td>0.240000</td>\n",
       "      <td>1.800000</td>\n",
       "      <td>0.038000</td>\n",
       "      <td>17.000000</td>\n",
       "      <td>78.000000</td>\n",
       "      <td>0.992300</td>\n",
       "      <td>3.110000</td>\n",
       "      <td>0.430000</td>\n",
       "      <td>9.500000</td>\n",
       "      <td>5.000000</td>\n",
       "    </tr>\n",
       "    <tr>\n",
       "      <th>50%</th>\n",
       "      <td>7.000000</td>\n",
       "      <td>0.290000</td>\n",
       "      <td>0.310000</td>\n",
       "      <td>3.100000</td>\n",
       "      <td>0.047000</td>\n",
       "      <td>29.000000</td>\n",
       "      <td>119.000000</td>\n",
       "      <td>0.994900</td>\n",
       "      <td>3.210000</td>\n",
       "      <td>0.510000</td>\n",
       "      <td>10.300000</td>\n",
       "      <td>6.000000</td>\n",
       "    </tr>\n",
       "    <tr>\n",
       "      <th>75%</th>\n",
       "      <td>7.700000</td>\n",
       "      <td>0.410000</td>\n",
       "      <td>0.390000</td>\n",
       "      <td>8.100000</td>\n",
       "      <td>0.065000</td>\n",
       "      <td>41.000000</td>\n",
       "      <td>156.000000</td>\n",
       "      <td>0.996920</td>\n",
       "      <td>3.320000</td>\n",
       "      <td>0.600000</td>\n",
       "      <td>11.300000</td>\n",
       "      <td>6.000000</td>\n",
       "    </tr>\n",
       "    <tr>\n",
       "      <th>max</th>\n",
       "      <td>15.600000</td>\n",
       "      <td>1.330000</td>\n",
       "      <td>1.660000</td>\n",
       "      <td>65.800000</td>\n",
       "      <td>0.611000</td>\n",
       "      <td>289.000000</td>\n",
       "      <td>440.000000</td>\n",
       "      <td>1.038980</td>\n",
       "      <td>4.010000</td>\n",
       "      <td>1.950000</td>\n",
       "      <td>14.050000</td>\n",
       "      <td>9.000000</td>\n",
       "    </tr>\n",
       "  </tbody>\n",
       "</table>\n",
       "</div>"
      ],
      "text/plain": [
       "       fixed acidity  volatile acidity  citric acid  residual sugar  \\\n",
       "count    4547.000000       4547.000000  4547.000000     4547.000000   \n",
       "mean        7.204948          0.340979     0.316815        5.473400   \n",
       "std         1.285119          0.165459     0.144355        4.796098   \n",
       "min         3.800000          0.080000     0.000000        0.600000   \n",
       "25%         6.400000          0.230000     0.240000        1.800000   \n",
       "50%         7.000000          0.290000     0.310000        3.100000   \n",
       "75%         7.700000          0.410000     0.390000        8.100000   \n",
       "max        15.600000          1.330000     1.660000       65.800000   \n",
       "\n",
       "         chlorides  free sulfur dioxide  total sulfur dioxide      density  \\\n",
       "count  4547.000000          4547.000000           4547.000000  4547.000000   \n",
       "mean      0.056262            30.433693            116.022652     0.994693   \n",
       "std       0.036155            17.776858             56.870340     0.003012   \n",
       "min       0.012000             1.000000              6.000000     0.987110   \n",
       "25%       0.038000            17.000000             78.000000     0.992300   \n",
       "50%       0.047000            29.000000            119.000000     0.994900   \n",
       "75%       0.065000            41.000000            156.000000     0.996920   \n",
       "max       0.611000           289.000000            440.000000     1.038980   \n",
       "\n",
       "                pH    sulphates      alcohol      quality  \n",
       "count  4547.000000  4547.000000  4547.000000  4547.000000  \n",
       "mean      3.217675     0.530501    10.493276     5.823840  \n",
       "std       0.161511     0.147374     1.200601     0.879434  \n",
       "min       2.720000     0.220000     8.000000     3.000000  \n",
       "25%       3.110000     0.430000     9.500000     5.000000  \n",
       "50%       3.210000     0.510000    10.300000     6.000000  \n",
       "75%       3.320000     0.600000    11.300000     6.000000  \n",
       "max       4.010000     1.950000    14.050000     9.000000  "
      ]
     },
     "execution_count": 18,
     "metadata": {},
     "output_type": "execute_result"
    }
   ],
   "source": [
    "wine.describe()"
   ]
  },
  {
   "cell_type": "code",
   "execution_count": 19,
   "id": "6bd38e76-c297-45c5-b062-a97cebe1a528",
   "metadata": {},
   "outputs": [
    {
     "data": {
      "text/plain": [
       "6    1952\n",
       "5    1502\n",
       "7     779\n",
       "4     151\n",
       "8     139\n",
       "3      21\n",
       "9       3\n",
       "Name: quality, dtype: int64"
      ]
     },
     "execution_count": 19,
     "metadata": {},
     "output_type": "execute_result"
    }
   ],
   "source": [
    "wine.quality.value_counts()"
   ]
  },
  {
   "cell_type": "markdown",
   "id": "3c100928-0446-42bf-b878-ee13226e7ea8",
   "metadata": {},
   "source": [
    "Check distributions of the data first"
   ]
  },
  {
   "cell_type": "code",
   "execution_count": 20,
   "id": "67fc7d2f-01fb-4315-a954-b93a58c1cd58",
   "metadata": {},
   "outputs": [
    {
     "data": {
      "image/png": "[encoded data removed]",
      "text/plain": [
       "<Figure size 640x480 with 1 Axes>"
      ]
     },
     "metadata": {},
     "output_type": "display_data"
    },
    {
     "data": {
      "image/png": "[encoded data removed]",
      "text/plain": [
       "<Figure size 640x480 with 1 Axes>"
      ]
     },
     "metadata": {},
     "output_type": "display_data"
    },
    {
     "data": {
      "image/png": "[encoded data removed]",
      "text/plain": [
       "<Figure size 640x480 with 1 Axes>"
      ]
     },
     "metadata": {},
     "output_type": "display_data"
    },
    {
     "data": {
      "image/png": "[encoded data removed]",
      "text/plain": [
       "<Figure size 640x480 with 1 Axes>"
      ]
     },
     "metadata": {},
     "output_type": "display_data"
    },
    {
     "data": {
      "image/png": "[encoded data removed]",
      "text/plain": [
       "<Figure size 640x480 with 1 Axes>"
      ]
     },
     "metadata": {},
     "output_type": "display_data"
    },
    {
     "data": {
      "image/png": "[encoded data removed]",
      "text/plain": [
       "<Figure size 640x480 with 1 Axes>"
      ]
     },
     "metadata": {},
     "output_type": "display_data"
    },
    {
     "data": {
      "image/png": "[encoded data removed]",
      "text/plain": [
       "<Figure size 640x480 with 1 Axes>"
      ]
     },
     "metadata": {},
     "output_type": "display_data"
    },
    {
     "data": {
      "image/png": "[encoded data removed]",
      "text/plain": [
       "<Figure size 640x480 with 1 Axes>"
      ]
     },
     "metadata": {},
     "output_type": "display_data"
    },
    {
     "data": {
      "image/png": "[encoded data removed]",
      "text/plain": [
       "<Figure size 640x480 with 1 Axes>"
      ]
     },
     "metadata": {},
     "output_type": "display_data"
    },
    {
     "data": {
      "image/png": "[encoded data removed]",
      "text/plain": [
       "<Figure size 640x480 with 1 Axes>"
      ]
     },
     "metadata": {},
     "output_type": "display_data"
    },
    {
     "data": {
      "image/png": "[encoded data removed]",
      "text/plain": [
       "<Figure size 640x480 with 1 Axes>"
      ]
     },
     "metadata": {},
     "output_type": "display_data"
    },
    {
     "data": {
      "image/png": "[encoded data removed]",
      "text/plain": [
       "<Figure size 640x480 with 1 Axes>"
      ]
     },
     "metadata": {},
     "output_type": "display_data"
    },
    {
     "data": {
      "image/png": "[encoded data removed]",
      "text/plain": [
       "<Figure size 640x480 with 1 Axes>"
      ]
     },
     "metadata": {},
     "output_type": "display_data"
    }
   ],
   "source": [
    "for col in wine.columns:\n",
    "    plt.figure()\n",
    "    sns.histplot(wine, x=col, hue='wine_type')\n",
    "    plt.show()"
   ]
  },
  {
   "cell_type": "markdown",
   "id": "165ba19f-3ce9-4011-97a7-fd32aff31b39",
   "metadata": {},
   "source": [
    "Mostly normal distributions with a few outliers in each category. There are far more white wines than red."
   ]
  },
  {
   "cell_type": "markdown",
   "id": "ff6ee1d6-cce3-4a53-82c5-57b20b08a1d6",
   "metadata": {},
   "source": [
    "I will bin data so it is easier to see when plotted"
   ]
  },
  {
   "cell_type": "code",
   "execution_count": 21,
   "id": "dd507834-9185-4c73-857c-29578aff8046",
   "metadata": {},
   "outputs": [],
   "source": [
    "bin_wine = wine.copy()"
   ]
  },
  {
   "cell_type": "code",
   "execution_count": 22,
   "id": "3958918e-13ae-4c43-b2ba-8dc568fa7ff4",
   "metadata": {},
   "outputs": [],
   "source": [
    "for col in bin_wine.select_dtypes(float).columns:\n",
    "    bin_wine[col] = pd.qcut(bin_wine[col], 10, [1,2,3,4,5,6,7,8,9,10])"
   ]
  },
  {
   "cell_type": "code",
   "execution_count": 23,
   "id": "d35a5aa9-ed7f-41c7-8cbf-5613b0f02254",
   "metadata": {},
   "outputs": [
    {
     "data": {
      "text/html": [
       "<div>\n",
       "<style scoped>\n",
       "    .dataframe tbody tr th:only-of-type {\n",
       "        vertical-align: middle;\n",
       "    }\n",
       "\n",
       "    .dataframe tbody tr th {\n",
       "        vertical-align: top;\n",
       "    }\n",
       "\n",
       "    .dataframe thead th {\n",
       "        text-align: right;\n",
       "    }\n",
       "</style>\n",
       "<table border=\"1\" class=\"dataframe\">\n",
       "  <thead>\n",
       "    <tr style=\"text-align: right;\">\n",
       "      <th></th>\n",
       "      <th>fixed acidity</th>\n",
       "      <th>volatile acidity</th>\n",
       "      <th>citric acid</th>\n",
       "      <th>residual sugar</th>\n",
       "      <th>chlorides</th>\n",
       "      <th>free sulfur dioxide</th>\n",
       "      <th>total sulfur dioxide</th>\n",
       "      <th>density</th>\n",
       "      <th>pH</th>\n",
       "      <th>sulphates</th>\n",
       "      <th>alcohol</th>\n",
       "      <th>quality</th>\n",
       "      <th>wine_type</th>\n",
       "    </tr>\n",
       "  </thead>\n",
       "  <tbody>\n",
       "    <tr>\n",
       "      <th>5397</th>\n",
       "      <td>8</td>\n",
       "      <td>2</td>\n",
       "      <td>8</td>\n",
       "      <td>3</td>\n",
       "      <td>7</td>\n",
       "      <td>4</td>\n",
       "      <td>7</td>\n",
       "      <td>2</td>\n",
       "      <td>2</td>\n",
       "      <td>6</td>\n",
       "      <td>7</td>\n",
       "      <td>5</td>\n",
       "      <td>white</td>\n",
       "    </tr>\n",
       "    <tr>\n",
       "      <th>5111</th>\n",
       "      <td>2</td>\n",
       "      <td>2</td>\n",
       "      <td>5</td>\n",
       "      <td>1</td>\n",
       "      <td>4</td>\n",
       "      <td>6</td>\n",
       "      <td>5</td>\n",
       "      <td>2</td>\n",
       "      <td>10</td>\n",
       "      <td>9</td>\n",
       "      <td>7</td>\n",
       "      <td>6</td>\n",
       "      <td>white</td>\n",
       "    </tr>\n",
       "    <tr>\n",
       "      <th>3519</th>\n",
       "      <td>9</td>\n",
       "      <td>4</td>\n",
       "      <td>6</td>\n",
       "      <td>9</td>\n",
       "      <td>7</td>\n",
       "      <td>9</td>\n",
       "      <td>8</td>\n",
       "      <td>9</td>\n",
       "      <td>2</td>\n",
       "      <td>5</td>\n",
       "      <td>5</td>\n",
       "      <td>7</td>\n",
       "      <td>white</td>\n",
       "    </tr>\n",
       "    <tr>\n",
       "      <th>6105</th>\n",
       "      <td>4</td>\n",
       "      <td>2</td>\n",
       "      <td>4</td>\n",
       "      <td>1</td>\n",
       "      <td>4</td>\n",
       "      <td>7</td>\n",
       "      <td>4</td>\n",
       "      <td>1</td>\n",
       "      <td>6</td>\n",
       "      <td>9</td>\n",
       "      <td>8</td>\n",
       "      <td>6</td>\n",
       "      <td>white</td>\n",
       "    </tr>\n",
       "    <tr>\n",
       "      <th>2115</th>\n",
       "      <td>4</td>\n",
       "      <td>1</td>\n",
       "      <td>7</td>\n",
       "      <td>2</td>\n",
       "      <td>7</td>\n",
       "      <td>9</td>\n",
       "      <td>8</td>\n",
       "      <td>4</td>\n",
       "      <td>2</td>\n",
       "      <td>3</td>\n",
       "      <td>1</td>\n",
       "      <td>5</td>\n",
       "      <td>white</td>\n",
       "    </tr>\n",
       "  </tbody>\n",
       "</table>\n",
       "</div>"
      ],
      "text/plain": [
       "     fixed acidity volatile acidity citric acid residual sugar chlorides  \\\n",
       "5397             8                2           8              3         7   \n",
       "5111             2                2           5              1         4   \n",
       "3519             9                4           6              9         7   \n",
       "6105             4                2           4              1         4   \n",
       "2115             4                1           7              2         7   \n",
       "\n",
       "     free sulfur dioxide total sulfur dioxide density  pH sulphates alcohol  \\\n",
       "5397                   4                    7       2   2         6       7   \n",
       "5111                   6                    5       2  10         9       7   \n",
       "3519                   9                    8       9   2         5       5   \n",
       "6105                   7                    4       1   6         9       8   \n",
       "2115                   9                    8       4   2         3       1   \n",
       "\n",
       "      quality wine_type  \n",
       "5397        5     white  \n",
       "5111        6     white  \n",
       "3519        7     white  \n",
       "6105        6     white  \n",
       "2115        5     white  "
      ]
     },
     "execution_count": 23,
     "metadata": {},
     "output_type": "execute_result"
    }
   ],
   "source": [
    "bin_wine.head()"
   ]
  },
  {
   "cell_type": "code",
   "execution_count": 24,
   "id": "c2319d3a-39fd-402c-aec1-3f12b7efd519",
   "metadata": {},
   "outputs": [
    {
     "data": {
      "image/png": "[encoded data removed]",
      "text/plain": [
       "<Figure size 640x480 with 1 Axes>"
      ]
     },
     "metadata": {},
     "output_type": "display_data"
    },
    {
     "data": {
      "image/png": "[encoded data removed]",
      "text/plain": [
       "<Figure size 640x480 with 1 Axes>"
      ]
     },
     "metadata": {},
     "output_type": "display_data"
    },
    {
     "data": {
      "image/png": "[encoded data removed]",
      "text/plain": [
       "<Figure size 640x480 with 1 Axes>"
      ]
     },
     "metadata": {},
     "output_type": "display_data"
    },
    {
     "data": {
      "image/png": "[encoded data removed]",
      "text/plain": [
       "<Figure size 640x480 with 1 Axes>"
      ]
     },
     "metadata": {},
     "output_type": "display_data"
    },
    {
     "data": {
      "image/png": "[encoded data removed]",
      "text/plain": [
       "<Figure size 640x480 with 1 Axes>"
      ]
     },
     "metadata": {},
     "output_type": "display_data"
    },
    {
     "data": {
      "image/png": "[encoded data removed]",
      "text/plain": [
       "<Figure size 640x480 with 1 Axes>"
      ]
     },
     "metadata": {},
     "output_type": "display_data"
    },
    {
     "data": {
      "image/png": "[encoded data removed]",
      "text/plain": [
       "<Figure size 640x480 with 1 Axes>"
      ]
     },
     "metadata": {},
     "output_type": "display_data"
    },
    {
     "data": {
      "image/png": "[encoded data removed]",
      "text/plain": [
       "<Figure size 640x480 with 1 Axes>"
      ]
     },
     "metadata": {},
     "output_type": "display_data"
    },
    {
     "data": {
      "image/png": "[encoded data removed]",
      "text/plain": [
       "<Figure size 640x480 with 1 Axes>"
      ]
     },
     "metadata": {},
     "output_type": "display_data"
    },
    {
     "data": {
      "image/png": "[encoded data removed]",
      "text/plain": [
       "<Figure size 640x480 with 1 Axes>"
      ]
     },
     "metadata": {},
     "output_type": "display_data"
    },
    {
     "data": {
      "image/png": "[encoded data removed]",
      "text/plain": [
       "<Figure size 640x480 with 1 Axes>"
      ]
     },
     "metadata": {},
     "output_type": "display_data"
    },
    {
     "data": {
      "image/png": "[encoded data removed]",
      "text/plain": [
       "<Figure size 640x480 with 1 Axes>"
      ]
     },
     "metadata": {},
     "output_type": "display_data"
    },
    {
     "data": {
      "image/png": "[encoded data removed]",
      "text/plain": [
       "<Figure size 640x480 with 1 Axes>"
      ]
     },
     "metadata": {},
     "output_type": "display_data"
    }
   ],
   "source": [
    "for col in bin_wine:\n",
    "    plt.figure()\n",
    "    sns.barplot(bin_wine, x=col, y='quality')"
   ]
  },
  {
   "cell_type": "markdown",
   "id": "c2ca1e34-1539-4269-84b0-e068820ae43d",
   "metadata": {},
   "source": [
    "Initial conclusions: No one feature seems to have a profound effect on wine quality by itself. It must be a conbination of features that determines the quality of a wine"
   ]
  },
  {
   "cell_type": "markdown",
   "id": "97e51897-2261-4e2e-8df0-0835b6d0e3a3",
   "metadata": {},
   "source": [
    "# Modeling"
   ]
  },
  {
   "cell_type": "markdown",
   "id": "eb82be81-bcbb-41d1-96cd-8cbb3bccb4e3",
   "metadata": {},
   "source": [
    "## Preprocessing"
   ]
  },
  {
   "cell_type": "code",
   "execution_count": 25,
   "id": "af415167-ea32-4b9e-9259-4caadd44cf0c",
   "metadata": {},
   "outputs": [
    {
     "data": {
      "text/html": [
       "<div>\n",
       "<style scoped>\n",
       "    .dataframe tbody tr th:only-of-type {\n",
       "        vertical-align: middle;\n",
       "    }\n",
       "\n",
       "    .dataframe tbody tr th {\n",
       "        vertical-align: top;\n",
       "    }\n",
       "\n",
       "    .dataframe thead th {\n",
       "        text-align: right;\n",
       "    }\n",
       "</style>\n",
       "<table border=\"1\" class=\"dataframe\">\n",
       "  <thead>\n",
       "    <tr style=\"text-align: right;\">\n",
       "      <th></th>\n",
       "      <th>fixed acidity</th>\n",
       "      <th>volatile acidity</th>\n",
       "      <th>citric acid</th>\n",
       "      <th>residual sugar</th>\n",
       "      <th>chlorides</th>\n",
       "      <th>free sulfur dioxide</th>\n",
       "      <th>total sulfur dioxide</th>\n",
       "      <th>density</th>\n",
       "      <th>pH</th>\n",
       "      <th>sulphates</th>\n",
       "      <th>alcohol</th>\n",
       "      <th>quality</th>\n",
       "      <th>wine_type</th>\n",
       "    </tr>\n",
       "  </thead>\n",
       "  <tbody>\n",
       "    <tr>\n",
       "      <th>5397</th>\n",
       "      <td>7.9</td>\n",
       "      <td>0.21</td>\n",
       "      <td>0.39</td>\n",
       "      <td>2.0</td>\n",
       "      <td>0.057</td>\n",
       "      <td>21.0</td>\n",
       "      <td>138.0</td>\n",
       "      <td>0.99176</td>\n",
       "      <td>3.05</td>\n",
       "      <td>0.52</td>\n",
       "      <td>10.9</td>\n",
       "      <td>5</td>\n",
       "      <td>white</td>\n",
       "    </tr>\n",
       "    <tr>\n",
       "      <th>5111</th>\n",
       "      <td>6.3</td>\n",
       "      <td>0.21</td>\n",
       "      <td>0.31</td>\n",
       "      <td>1.2</td>\n",
       "      <td>0.043</td>\n",
       "      <td>30.0</td>\n",
       "      <td>117.0</td>\n",
       "      <td>0.99158</td>\n",
       "      <td>3.49</td>\n",
       "      <td>0.68</td>\n",
       "      <td>11.0</td>\n",
       "      <td>6</td>\n",
       "      <td>white</td>\n",
       "    </tr>\n",
       "    <tr>\n",
       "      <th>3519</th>\n",
       "      <td>8.1</td>\n",
       "      <td>0.26</td>\n",
       "      <td>0.33</td>\n",
       "      <td>11.1</td>\n",
       "      <td>0.052</td>\n",
       "      <td>52.5</td>\n",
       "      <td>158.0</td>\n",
       "      <td>0.99760</td>\n",
       "      <td>3.03</td>\n",
       "      <td>0.49</td>\n",
       "      <td>10.2</td>\n",
       "      <td>7</td>\n",
       "      <td>white</td>\n",
       "    </tr>\n",
       "    <tr>\n",
       "      <th>6105</th>\n",
       "      <td>6.6</td>\n",
       "      <td>0.19</td>\n",
       "      <td>0.28</td>\n",
       "      <td>1.1</td>\n",
       "      <td>0.044</td>\n",
       "      <td>38.0</td>\n",
       "      <td>100.0</td>\n",
       "      <td>0.99040</td>\n",
       "      <td>3.22</td>\n",
       "      <td>0.69</td>\n",
       "      <td>11.2</td>\n",
       "      <td>6</td>\n",
       "      <td>white</td>\n",
       "    </tr>\n",
       "    <tr>\n",
       "      <th>2115</th>\n",
       "      <td>6.8</td>\n",
       "      <td>0.18</td>\n",
       "      <td>0.37</td>\n",
       "      <td>1.6</td>\n",
       "      <td>0.055</td>\n",
       "      <td>47.0</td>\n",
       "      <td>154.0</td>\n",
       "      <td>0.99340</td>\n",
       "      <td>3.08</td>\n",
       "      <td>0.45</td>\n",
       "      <td>9.1</td>\n",
       "      <td>5</td>\n",
       "      <td>white</td>\n",
       "    </tr>\n",
       "  </tbody>\n",
       "</table>\n",
       "</div>"
      ],
      "text/plain": [
       "      fixed acidity  volatile acidity  citric acid  residual sugar  chlorides  \\\n",
       "5397            7.9              0.21         0.39             2.0      0.057   \n",
       "5111            6.3              0.21         0.31             1.2      0.043   \n",
       "3519            8.1              0.26         0.33            11.1      0.052   \n",
       "6105            6.6              0.19         0.28             1.1      0.044   \n",
       "2115            6.8              0.18         0.37             1.6      0.055   \n",
       "\n",
       "      free sulfur dioxide  total sulfur dioxide  density    pH  sulphates  \\\n",
       "5397                 21.0                 138.0  0.99176  3.05       0.52   \n",
       "5111                 30.0                 117.0  0.99158  3.49       0.68   \n",
       "3519                 52.5                 158.0  0.99760  3.03       0.49   \n",
       "6105                 38.0                 100.0  0.99040  3.22       0.69   \n",
       "2115                 47.0                 154.0  0.99340  3.08       0.45   \n",
       "\n",
       "      alcohol  quality wine_type  \n",
       "5397     10.9        5     white  \n",
       "5111     11.0        6     white  \n",
       "3519     10.2        7     white  \n",
       "6105     11.2        6     white  \n",
       "2115      9.1        5     white  "
      ]
     },
     "execution_count": 25,
     "metadata": {},
     "output_type": "execute_result"
    }
   ],
   "source": [
    "wine.head()"
   ]
  },
  {
   "cell_type": "code",
   "execution_count": 26,
   "id": "a348f982-9a97-4ff9-b85b-50ea20afc6d5",
   "metadata": {},
   "outputs": [
    {
     "data": {
      "text/plain": [
       "fixed acidity           float64\n",
       "volatile acidity        float64\n",
       "citric acid             float64\n",
       "residual sugar          float64\n",
       "chlorides               float64\n",
       "free sulfur dioxide     float64\n",
       "total sulfur dioxide    float64\n",
       "density                 float64\n",
       "pH                      float64\n",
       "sulphates               float64\n",
       "alcohol                 float64\n",
       "quality                   int64\n",
       "wine_type                object\n",
       "dtype: object"
      ]
     },
     "execution_count": 26,
     "metadata": {},
     "output_type": "execute_result"
    }
   ],
   "source": [
    "wine.dtypes"
   ]
  },
  {
   "cell_type": "code",
   "execution_count": 27,
   "id": "b98052f7-13c7-46a4-84f1-19446983a9cd",
   "metadata": {},
   "outputs": [],
   "source": [
    "train, val, test = prep.train_val_test(wine, strat='quality', seed=seed)"
   ]
  },
  {
   "cell_type": "code",
   "execution_count": 28,
   "id": "e7bda589-bf53-4e5f-875c-4c8d8b33c770",
   "metadata": {},
   "outputs": [
    {
     "data": {
      "text/plain": [
       "((3182, 13), (682, 13), (683, 13))"
      ]
     },
     "execution_count": 28,
     "metadata": {},
     "output_type": "execute_result"
    }
   ],
   "source": [
    "train.shape, val.shape, test.shape"
   ]
  },
  {
   "cell_type": "code",
   "execution_count": 29,
   "id": "954f95b3-cc02-4baa-ab65-6b8d6a2ca6ad",
   "metadata": {},
   "outputs": [],
   "source": [
    "train, val, test = prep.scale(wine, train=train, val=val, test=test, scaled_cols=(wine.select_dtypes(float).columns))"
   ]
  },
  {
   "cell_type": "code",
   "execution_count": 30,
   "id": "ba4f58b6-7b54-4cfa-b198-224a64a295ad",
   "metadata": {},
   "outputs": [
    {
     "data": {
      "text/html": [
       "<div>\n",
       "<style scoped>\n",
       "    .dataframe tbody tr th:only-of-type {\n",
       "        vertical-align: middle;\n",
       "    }\n",
       "\n",
       "    .dataframe tbody tr th {\n",
       "        vertical-align: top;\n",
       "    }\n",
       "\n",
       "    .dataframe thead th {\n",
       "        text-align: right;\n",
       "    }\n",
       "</style>\n",
       "<table border=\"1\" class=\"dataframe\">\n",
       "  <thead>\n",
       "    <tr style=\"text-align: right;\">\n",
       "      <th></th>\n",
       "      <th>fixed acidity</th>\n",
       "      <th>volatile acidity</th>\n",
       "      <th>citric acid</th>\n",
       "      <th>residual sugar</th>\n",
       "      <th>chlorides</th>\n",
       "      <th>free sulfur dioxide</th>\n",
       "      <th>total sulfur dioxide</th>\n",
       "      <th>density</th>\n",
       "      <th>pH</th>\n",
       "      <th>sulphates</th>\n",
       "      <th>alcohol</th>\n",
       "      <th>quality</th>\n",
       "      <th>wine_type</th>\n",
       "    </tr>\n",
       "  </thead>\n",
       "  <tbody>\n",
       "    <tr>\n",
       "      <th>5184</th>\n",
       "      <td>0.264957</td>\n",
       "      <td>0.128</td>\n",
       "      <td>0.210843</td>\n",
       "      <td>0.006135</td>\n",
       "      <td>0.033389</td>\n",
       "      <td>0.315385</td>\n",
       "      <td>0.271845</td>\n",
       "      <td>0.053403</td>\n",
       "      <td>0.330709</td>\n",
       "      <td>0.086705</td>\n",
       "      <td>0.616667</td>\n",
       "      <td>7</td>\n",
       "      <td>white</td>\n",
       "    </tr>\n",
       "    <tr>\n",
       "      <th>979</th>\n",
       "      <td>0.709402</td>\n",
       "      <td>0.296</td>\n",
       "      <td>0.295181</td>\n",
       "      <td>0.012270</td>\n",
       "      <td>0.105175</td>\n",
       "      <td>0.015385</td>\n",
       "      <td>0.000000</td>\n",
       "      <td>0.188741</td>\n",
       "      <td>0.307087</td>\n",
       "      <td>0.236994</td>\n",
       "      <td>0.400000</td>\n",
       "      <td>5</td>\n",
       "      <td>red</td>\n",
       "    </tr>\n",
       "    <tr>\n",
       "      <th>4101</th>\n",
       "      <td>0.401709</td>\n",
       "      <td>0.208</td>\n",
       "      <td>0.216867</td>\n",
       "      <td>0.012270</td>\n",
       "      <td>0.055092</td>\n",
       "      <td>0.076923</td>\n",
       "      <td>0.313454</td>\n",
       "      <td>0.162907</td>\n",
       "      <td>0.338583</td>\n",
       "      <td>0.144509</td>\n",
       "      <td>0.233333</td>\n",
       "      <td>4</td>\n",
       "      <td>white</td>\n",
       "    </tr>\n",
       "    <tr>\n",
       "      <th>4596</th>\n",
       "      <td>0.256410</td>\n",
       "      <td>0.136</td>\n",
       "      <td>0.198795</td>\n",
       "      <td>0.009202</td>\n",
       "      <td>0.038397</td>\n",
       "      <td>0.261538</td>\n",
       "      <td>0.421637</td>\n",
       "      <td>0.071525</td>\n",
       "      <td>0.220472</td>\n",
       "      <td>0.208092</td>\n",
       "      <td>0.550000</td>\n",
       "      <td>6</td>\n",
       "      <td>white</td>\n",
       "    </tr>\n",
       "    <tr>\n",
       "      <th>5286</th>\n",
       "      <td>0.179487</td>\n",
       "      <td>0.064</td>\n",
       "      <td>0.162651</td>\n",
       "      <td>0.174847</td>\n",
       "      <td>0.030050</td>\n",
       "      <td>0.292308</td>\n",
       "      <td>0.255201</td>\n",
       "      <td>0.133218</td>\n",
       "      <td>0.322835</td>\n",
       "      <td>0.069364</td>\n",
       "      <td>0.466667</td>\n",
       "      <td>5</td>\n",
       "      <td>white</td>\n",
       "    </tr>\n",
       "  </tbody>\n",
       "</table>\n",
       "</div>"
      ],
      "text/plain": [
       "      fixed acidity  volatile acidity  citric acid  residual sugar  chlorides  \\\n",
       "5184       0.264957             0.128     0.210843        0.006135   0.033389   \n",
       "979        0.709402             0.296     0.295181        0.012270   0.105175   \n",
       "4101       0.401709             0.208     0.216867        0.012270   0.055092   \n",
       "4596       0.256410             0.136     0.198795        0.009202   0.038397   \n",
       "5286       0.179487             0.064     0.162651        0.174847   0.030050   \n",
       "\n",
       "      free sulfur dioxide  total sulfur dioxide   density        pH  \\\n",
       "5184             0.315385              0.271845  0.053403  0.330709   \n",
       "979              0.015385              0.000000  0.188741  0.307087   \n",
       "4101             0.076923              0.313454  0.162907  0.338583   \n",
       "4596             0.261538              0.421637  0.071525  0.220472   \n",
       "5286             0.292308              0.255201  0.133218  0.322835   \n",
       "\n",
       "      sulphates   alcohol  quality wine_type  \n",
       "5184   0.086705  0.616667        7     white  \n",
       "979    0.236994  0.400000        5       red  \n",
       "4101   0.144509  0.233333        4     white  \n",
       "4596   0.208092  0.550000        6     white  \n",
       "5286   0.069364  0.466667        5     white  "
      ]
     },
     "execution_count": 30,
     "metadata": {},
     "output_type": "execute_result"
    }
   ],
   "source": [
    "train.head()"
   ]
  },
  {
   "cell_type": "code",
   "execution_count": 31,
   "id": "9e234acd-35a1-41df-9488-1942d8b3c457",
   "metadata": {},
   "outputs": [],
   "source": [
    "train, val, test = prep.dummies(train, val, test, drop_first=['wine_type'])"
   ]
  },
  {
   "cell_type": "code",
   "execution_count": 32,
   "id": "85865110-ad4c-4b99-8882-29ab840ddfdb",
   "metadata": {},
   "outputs": [
    {
     "data": {
      "text/html": [
       "<div>\n",
       "<style scoped>\n",
       "    .dataframe tbody tr th:only-of-type {\n",
       "        vertical-align: middle;\n",
       "    }\n",
       "\n",
       "    .dataframe tbody tr th {\n",
       "        vertical-align: top;\n",
       "    }\n",
       "\n",
       "    .dataframe thead th {\n",
       "        text-align: right;\n",
       "    }\n",
       "</style>\n",
       "<table border=\"1\" class=\"dataframe\">\n",
       "  <thead>\n",
       "    <tr style=\"text-align: right;\">\n",
       "      <th></th>\n",
       "      <th>fixed acidity</th>\n",
       "      <th>volatile acidity</th>\n",
       "      <th>citric acid</th>\n",
       "      <th>residual sugar</th>\n",
       "      <th>chlorides</th>\n",
       "      <th>free sulfur dioxide</th>\n",
       "      <th>total sulfur dioxide</th>\n",
       "      <th>density</th>\n",
       "      <th>pH</th>\n",
       "      <th>sulphates</th>\n",
       "      <th>alcohol</th>\n",
       "      <th>quality</th>\n",
       "      <th>wine_type_white</th>\n",
       "    </tr>\n",
       "  </thead>\n",
       "  <tbody>\n",
       "    <tr>\n",
       "      <th>5184</th>\n",
       "      <td>0.264957</td>\n",
       "      <td>0.128</td>\n",
       "      <td>0.210843</td>\n",
       "      <td>0.006135</td>\n",
       "      <td>0.033389</td>\n",
       "      <td>0.315385</td>\n",
       "      <td>0.271845</td>\n",
       "      <td>0.053403</td>\n",
       "      <td>0.330709</td>\n",
       "      <td>0.086705</td>\n",
       "      <td>0.616667</td>\n",
       "      <td>7</td>\n",
       "      <td>1</td>\n",
       "    </tr>\n",
       "    <tr>\n",
       "      <th>979</th>\n",
       "      <td>0.709402</td>\n",
       "      <td>0.296</td>\n",
       "      <td>0.295181</td>\n",
       "      <td>0.012270</td>\n",
       "      <td>0.105175</td>\n",
       "      <td>0.015385</td>\n",
       "      <td>0.000000</td>\n",
       "      <td>0.188741</td>\n",
       "      <td>0.307087</td>\n",
       "      <td>0.236994</td>\n",
       "      <td>0.400000</td>\n",
       "      <td>5</td>\n",
       "      <td>0</td>\n",
       "    </tr>\n",
       "    <tr>\n",
       "      <th>4101</th>\n",
       "      <td>0.401709</td>\n",
       "      <td>0.208</td>\n",
       "      <td>0.216867</td>\n",
       "      <td>0.012270</td>\n",
       "      <td>0.055092</td>\n",
       "      <td>0.076923</td>\n",
       "      <td>0.313454</td>\n",
       "      <td>0.162907</td>\n",
       "      <td>0.338583</td>\n",
       "      <td>0.144509</td>\n",
       "      <td>0.233333</td>\n",
       "      <td>4</td>\n",
       "      <td>1</td>\n",
       "    </tr>\n",
       "    <tr>\n",
       "      <th>4596</th>\n",
       "      <td>0.256410</td>\n",
       "      <td>0.136</td>\n",
       "      <td>0.198795</td>\n",
       "      <td>0.009202</td>\n",
       "      <td>0.038397</td>\n",
       "      <td>0.261538</td>\n",
       "      <td>0.421637</td>\n",
       "      <td>0.071525</td>\n",
       "      <td>0.220472</td>\n",
       "      <td>0.208092</td>\n",
       "      <td>0.550000</td>\n",
       "      <td>6</td>\n",
       "      <td>1</td>\n",
       "    </tr>\n",
       "    <tr>\n",
       "      <th>5286</th>\n",
       "      <td>0.179487</td>\n",
       "      <td>0.064</td>\n",
       "      <td>0.162651</td>\n",
       "      <td>0.174847</td>\n",
       "      <td>0.030050</td>\n",
       "      <td>0.292308</td>\n",
       "      <td>0.255201</td>\n",
       "      <td>0.133218</td>\n",
       "      <td>0.322835</td>\n",
       "      <td>0.069364</td>\n",
       "      <td>0.466667</td>\n",
       "      <td>5</td>\n",
       "      <td>1</td>\n",
       "    </tr>\n",
       "  </tbody>\n",
       "</table>\n",
       "</div>"
      ],
      "text/plain": [
       "      fixed acidity  volatile acidity  citric acid  residual sugar  chlorides  \\\n",
       "5184       0.264957             0.128     0.210843        0.006135   0.033389   \n",
       "979        0.709402             0.296     0.295181        0.012270   0.105175   \n",
       "4101       0.401709             0.208     0.216867        0.012270   0.055092   \n",
       "4596       0.256410             0.136     0.198795        0.009202   0.038397   \n",
       "5286       0.179487             0.064     0.162651        0.174847   0.030050   \n",
       "\n",
       "      free sulfur dioxide  total sulfur dioxide   density        pH  \\\n",
       "5184             0.315385              0.271845  0.053403  0.330709   \n",
       "979              0.015385              0.000000  0.188741  0.307087   \n",
       "4101             0.076923              0.313454  0.162907  0.338583   \n",
       "4596             0.261538              0.421637  0.071525  0.220472   \n",
       "5286             0.292308              0.255201  0.133218  0.322835   \n",
       "\n",
       "      sulphates   alcohol  quality  wine_type_white  \n",
       "5184   0.086705  0.616667        7                1  \n",
       "979    0.236994  0.400000        5                0  \n",
       "4101   0.144509  0.233333        4                1  \n",
       "4596   0.208092  0.550000        6                1  \n",
       "5286   0.069364  0.466667        5                1  "
      ]
     },
     "execution_count": 32,
     "metadata": {},
     "output_type": "execute_result"
    }
   ],
   "source": [
    "train.head()"
   ]
  },
  {
   "cell_type": "code",
   "execution_count": 34,
   "id": "cd5b6b66-9ad1-43f5-92cd-ccf62b1285a4",
   "metadata": {},
   "outputs": [],
   "source": [
    "x_train, y_train = prep.split_xy(train, 'quality')\n",
    "x_val, y_val = prep.split_xy(val, 'quality')"
   ]
  },
  {
   "cell_type": "markdown",
   "id": "d14e09e4-03d1-4871-958f-870a91f8844b",
   "metadata": {},
   "source": [
    "## Baseline"
   ]
  },
  {
   "cell_type": "code",
   "execution_count": null,
   "id": "b1e2256d-8f85-4199-980d-f86c2ed53f03",
   "metadata": {},
   "outputs": [],
   "source": [
    "results = ev.baseline(train.quality)"
   ]
  },
  {
   "cell_type": "code",
   "execution_count": null,
   "id": "2cbb1968-68fc-462a-8572-b96beb7913ce",
   "metadata": {},
   "outputs": [],
   "source": [
    "results.head()"
   ]
  },
  {
   "cell_type": "code",
   "execution_count": null,
   "id": "b013b29b-4162-42d6-8962-451337ff01f2",
   "metadata": {},
   "outputs": [],
   "source": [
    "SSE, MSE, RMSE = ev.eval_model(results.quality, results.base_median)\n",
    "SSE, MSE, RMSE"
   ]
  },
  {
   "cell_type": "code",
   "execution_count": null,
   "id": "e115b297-bea2-42f2-b36a-15905b7c45de",
   "metadata": {},
   "outputs": [],
   "source": [
    "SSE, MSE, RMSE = ev.eval_model(results.quality, results.base_mean)\n",
    "SSE, MSE, RMSE"
   ]
  },
  {
   "cell_type": "markdown",
   "id": "d3b4edbc-56f1-490e-b4bb-a009610e5dc6",
   "metadata": {},
   "source": [
    "THE BEST BASELINE MODEL HAD AN RMSE OF .87. "
   ]
  },
  {
   "cell_type": "markdown",
   "id": "357560ba-3e5d-4a29-9374-94ca8aab3847",
   "metadata": {},
   "source": [
    "## Polynomial Features"
   ]
  },
  {
   "cell_type": "code",
   "execution_count": 40,
   "id": "14dce64a-cb33-45ba-809d-f17f63c1aa5f",
   "metadata": {},
   "outputs": [],
   "source": [
    "poly = PolynomialFeatures()\n",
    "x_train_s = poly.fit_transform(x_train)\n",
    "x_val_s = poly.transform(x_val)"
   ]
  },
  {
   "cell_type": "markdown",
   "id": "6f4db26b-ed21-43ef-9533-d27c581a9a46",
   "metadata": {
    "tags": []
   },
   "source": [
    "## Linear Regression"
   ]
  },
  {
   "cell_type": "code",
   "execution_count": 35,
   "id": "025fbd47-0c76-407b-afe9-8297da05dd07",
   "metadata": {},
   "outputs": [
    {
     "name": "stdout",
     "output_type": "stream",
     "text": [
      "The train RMSE is 0.736526565142755.\n",
      "The validate RMSE is 0.7455980431898281.\n"
     ]
    }
   ],
   "source": [
    "lm = LinearRegression()  # Create model object\n",
    "ev.train_model(lm, x_train, y_train, x_val, y_val)  # Check train and validate"
   ]
  },
  {
   "cell_type": "code",
   "execution_count": 41,
   "id": "11136e19-e16a-4e40-aa40-e82f4a02c275",
   "metadata": {},
   "outputs": [
    {
     "name": "stdout",
     "output_type": "stream",
     "text": [
      "The train RMSE is 0.6947523501325024.\n",
      "The validate RMSE is 0.7988512177946201.\n"
     ]
    }
   ],
   "source": [
    "lm = LinearRegression()  # Create model object\n",
    "ev.train_model(lm, x_train_s, y_train, x_val_s, y_val)  # Check train and validate"
   ]
  },
  {
   "cell_type": "markdown",
   "id": "7bff97fc-2e45-4cc6-a3fc-92e22ef009ad",
   "metadata": {},
   "source": [
    "## XGBRegressor"
   ]
  },
  {
   "cell_type": "code",
   "execution_count": 37,
   "id": "c71d7bb6-f013-4513-9d8d-95c3a6502e52",
   "metadata": {},
   "outputs": [
    {
     "name": "stdout",
     "output_type": "stream",
     "text": [
      "The train RMSE is 0.6014875020058652.\n",
      "The validate RMSE is 0.7904701584754193.\n"
     ]
    }
   ],
   "source": [
    "xgbr = XGBRegressor(max_depth=8, n_estimators=8, random_state=100)  # Create best model\n",
    "\n",
    "ev.train_model(xgbr, x_train, y_train, x_val, y_val) # Evaluate"
   ]
  },
  {
   "cell_type": "code",
   "execution_count": 43,
   "id": "1d909025-6736-4f53-a988-927a38fee361",
   "metadata": {},
   "outputs": [
    {
     "name": "stdout",
     "output_type": "stream",
     "text": [
      "The train RMSE is 0.5771616643126595.\n",
      "The validate RMSE is 0.7802643180701185.\n"
     ]
    }
   ],
   "source": [
    "xgbr = XGBRegressor(max_depth=8, n_estimators=8, random_state=100)  # Create best model\n",
    "\n",
    "ev.train_model(xgbr, x_train_s, y_train, x_val_s, y_val) # Evaluate"
   ]
  },
  {
   "cell_type": "markdown",
   "id": "1f1129f0-15c0-4dba-b472-104e5f8e9ca2",
   "metadata": {},
   "source": [
    "## Random Forest Regressor"
   ]
  },
  {
   "cell_type": "code",
   "execution_count": 39,
   "id": "b7fd2053-5fa9-4fbd-8f13-0eac06c44bd9",
   "metadata": {},
   "outputs": [
    {
     "name": "stdout",
     "output_type": "stream",
     "text": [
      "The train RMSE is 0.6324267524131099.\n",
      "The validate RMSE is 0.7090395403478414.\n"
     ]
    }
   ],
   "source": [
    "# Create best model\n",
    "rf = RandomForestRegressor(max_depth=6, min_samples_split=8, random_state=100)\n",
    "\n",
    "ev.train_model(rf, x_train, y_train, x_val, y_val)  # Evaluate model"
   ]
  },
  {
   "cell_type": "code",
   "execution_count": 44,
   "id": "168ad2ad-1aed-4bf5-8e63-c22fe58a7616",
   "metadata": {},
   "outputs": [
    {
     "name": "stdout",
     "output_type": "stream",
     "text": [
      "The train RMSE is 0.6101116991771053.\n",
      "The validate RMSE is 0.7023726788395827.\n"
     ]
    }
   ],
   "source": [
    "# Create best model\n",
    "rf = RandomForestRegressor(max_depth=6, min_samples_split=8, random_state=100)\n",
    "\n",
    "ev.train_model(rf, x_train_s, y_train, x_val_s, y_val)  # Evaluate model"
   ]
  },
  {
   "cell_type": "markdown",
   "id": "0a619166-6478-485d-afb5-4aaa0e6f9bf2",
   "metadata": {},
   "source": [
    "## LASSO LARS"
   ]
  },
  {
   "cell_type": "code",
   "execution_count": 46,
   "id": "23b81dac-0a38-4401-8a72-d040be746572",
   "metadata": {},
   "outputs": [
    {
     "name": "stdout",
     "output_type": "stream",
     "text": [
      "The train RMSE is 0.736526565142755.\n",
      "The validate RMSE is 0.7455980431898284.\n"
     ]
    }
   ],
   "source": [
    "ll = LassoLars(alpha=0)\n",
    "ev.train_model(ll, x_train, y_train, x_val, y_val)"
   ]
  },
  {
   "cell_type": "code",
   "execution_count": 45,
   "id": "8c9a9aa1-fcd8-4f39-8e7b-a9537b1183ca",
   "metadata": {},
   "outputs": [
    {
     "name": "stdout",
     "output_type": "stream",
     "text": [
      "The train RMSE is 0.8748128323620358.\n",
      "The validate RMSE is 0.9029813496494399.\n"
     ]
    }
   ],
   "source": [
    "ll = LassoLars(alpha=1)\n",
    "ev.train_model(ll, x_train, y_train, x_val, y_val)"
   ]
  },
  {
   "cell_type": "code",
   "execution_count": 50,
   "id": "fb09774f-47ec-4276-a4b6-2f8236d3df2f",
   "metadata": {},
   "outputs": [
    {
     "name": "stdout",
     "output_type": "stream",
     "text": [
      "The train RMSE is 0.8215924955224818.\n",
      "The validate RMSE is 0.8476651337231064.\n"
     ]
    }
   ],
   "source": [
    "ll = LassoLars(alpha=0.05)\n",
    "ev.train_model(ll, x_train, y_train, x_val, y_val)"
   ]
  },
  {
   "cell_type": "code",
   "execution_count": 51,
   "id": "a491a5ba-6bc6-40d3-bc6e-095c7503a355",
   "metadata": {},
   "outputs": [
    {
     "name": "stdout",
     "output_type": "stream",
     "text": [
      "The train RMSE is 0.7342246331500492.\n",
      "The validate RMSE is 0.7467544808713461.\n"
     ]
    },
    {
     "name": "stderr",
     "output_type": "stream",
     "text": [
      "/opt/homebrew/anaconda3/lib/python3.10/site-packages/sklearn/linear_model/_least_angle.py:648: ConvergenceWarning: Regressors in active set degenerate. Dropping a regressor, after 11 iterations, i.e. alpha=3.001e-03, with an active set of 9 regressors, and the smallest cholesky pivot element being 2.220e-16. Reduce max_iter or increase eps parameters.\n",
      "  warnings.warn(\n",
      "/opt/homebrew/anaconda3/lib/python3.10/site-packages/sklearn/linear_model/_least_angle.py:648: ConvergenceWarning: Regressors in active set degenerate. Dropping a regressor, after 16 iterations, i.e. alpha=2.247e-03, with an active set of 12 regressors, and the smallest cholesky pivot element being 2.220e-16. Reduce max_iter or increase eps parameters.\n",
      "  warnings.warn(\n",
      "/opt/homebrew/anaconda3/lib/python3.10/site-packages/sklearn/linear_model/_least_angle.py:678: ConvergenceWarning: Early stopping the lars path, as the residues are small and the current value of alpha is no longer well controlled. 20 iterations, alpha=1.566e-03, previous alpha=1.556e-03, with an active set of 15 regressors.\n",
      "  warnings.warn(\n"
     ]
    }
   ],
   "source": [
    "ll = LassoLars(alpha=0)\n",
    "ev.train_model(ll, x_train_s, y_train, x_val_s, y_val)"
   ]
  },
  {
   "cell_type": "markdown",
   "id": "e0f64a67-be3d-4859-969b-66171e91c00d",
   "metadata": {},
   "source": [
    "# KNN"
   ]
  },
  {
   "cell_type": "code",
   "execution_count": 58,
   "id": "d81c2d1b-98ba-4698-a41b-dc3fed011d85",
   "metadata": {},
   "outputs": [
    {
     "name": "stdout",
     "output_type": "stream",
     "text": [
      "The train RMSE is 0.7250999627654895.\n",
      "The validate RMSE is 0.8450303227306762.\n"
     ]
    }
   ],
   "source": [
    "knn = KNeighborsClassifier(n_neighbors=7, weights='uniform')\n",
    "ev.train_model(knn, x_train, y_train, x_val, y_val)"
   ]
  },
  {
   "cell_type": "code",
   "execution_count": null,
   "id": "19abe0fd-8c83-4d2c-bcf5-e0a03d397283",
   "metadata": {},
   "outputs": [],
   "source": []
  }
 ],
 "metadata": {
  "kernelspec": {
   "display_name": "Python 3 (ipykernel)",
   "language": "python",
   "name": "python3"
  },
  "language_info": {
   "codemirror_mode": {
    "name": "ipython",
    "version": 3
   },
   "file_extension": ".py",
   "mimetype": "text/x-python",
   "name": "python",
   "nbconvert_exporter": "python",
   "pygments_lexer": "ipython3",
   "version": "3.10.9"
  }
 },
 "nbformat": 4,
 "nbformat_minor": 5
}
